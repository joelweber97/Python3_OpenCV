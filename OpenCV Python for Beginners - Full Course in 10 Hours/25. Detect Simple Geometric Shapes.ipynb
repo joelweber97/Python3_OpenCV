{
 "cells": [
  {
   "cell_type": "markdown",
   "id": "67d39048",
   "metadata": {},
   "source": [
    "### Shape Detection"
   ]
  },
  {
   "cell_type": "code",
   "execution_count": 53,
   "id": "6986cd39",
   "metadata": {},
   "outputs": [],
   "source": [
    "#detect what shape something is and write the name of the shape on the image\n",
    "import cv2\n",
    "import numpy as np"
   ]
  },
  {
   "cell_type": "code",
   "execution_count": 63,
   "id": "9d429fc4",
   "metadata": {},
   "outputs": [],
   "source": [
    "img = cv2.imread('./data/shapes.jpg')\n",
    "imgGray = cv2.cvtColor(img, cv2.COLOR_BGR2GRAY)"
   ]
  },
  {
   "cell_type": "code",
   "execution_count": 64,
   "id": "c4546ca4",
   "metadata": {},
   "outputs": [],
   "source": [
    "#find the threshold\n",
    "#threshold(src, thresh, maxval, type[, dst])\n",
    "_, thresh = cv2.threshold(imgGray, 207, 255, cv2.THRESH_BINARY)\n",
    "#find the contours\n",
    "#findContours(image, mode, method[, contours[, hierarchy[, offset]]])\n",
    "contours, _ = cv2.findContours(thresh, cv2.RETR_TREE, cv2.CHAIN_APPROX_NONE)\n",
    "#iterate over all the contours\n",
    "for contour in contours:\n",
    "    #approximates a curve or a polygon with another curve/polygon with less \n",
    "    #vertices so that the distance between them is less or equal to the specified precision.\n",
    "    #approxPolyDP(curve, epsilon, closed[, approxCurve])\n",
    "    #arcLength(curve, closed)\n",
    "    approx = cv2.approxPolyDP(contour, 0.01 * cv2.arcLength(contour, True), True)\n",
    "    #draw the contours\n",
    "    #drawContours(image, contours, contourIdx, color[, thickness[, lineType[, hierarchy[, maxLevel[, offset]]]]])\n",
    "    \n",
    "    cv2.drawContours(img, [approx], 0, (0,0,0), 3)\n",
    "    #find the x,y coords of each shape where we will print the text\n",
    "    x = approx.ravel()[0]\n",
    "    y = approx.ravel()[1]\n",
    "    #approximate the number of curves based on the approx variable\n",
    "    if len(approx) == 3:\n",
    "        cv2.putText(img, 'Triangle', (x,y), cv2.FONT_HERSHEY_SIMPLEX, 0.5, (127,127,127))\n",
    "    \n",
    "    elif len(approx) == 4:\n",
    "        x1, y1, w1, h1 = cv2.boundingRect(approx)\n",
    "        aspect_ratio = float(w1) / h1\n",
    "        if aspect_ratio >= 0.85 and aspect_ratio <= 1.15:\n",
    "            cv2.putText(img, 'Square', (x,y), cv2.FONT_HERSHEY_SIMPLEX, 0.5, (127,127,127)) \n",
    "        else:\n",
    "            cv2.putText(img, 'Rectangle', (x,y), cv2.FONT_HERSHEY_SIMPLEX, 0.5, (127,127,127)) \n",
    "    \n",
    "    elif len(approx) == 5:\n",
    "        cv2.putText(img, 'Pentagon', (x,y), cv2.FONT_HERSHEY_SIMPLEX, 0.5, (127,127,127))       \n",
    "    \n",
    "    elif len(approx) == 10:\n",
    "        cv2.putText(img, 'Star', (x,y), cv2.FONT_HERSHEY_SIMPLEX, 0.5, (127,127,127)) \n",
    "    else:\n",
    "        cv2.putText(img, 'Circle', (x,y), cv2.FONT_HERSHEY_SIMPLEX, 0.5, (127,127,127))       \n",
    "    \n",
    "\n"
   ]
  },
  {
   "cell_type": "code",
   "execution_count": 65,
   "id": "b2f73644",
   "metadata": {},
   "outputs": [],
   "source": [
    "cv2.imshow('shapes', img)\n",
    "cv2.waitKey(0)\n",
    "cv2.destroyAllWindows()"
   ]
  },
  {
   "cell_type": "code",
   "execution_count": null,
   "id": "9b8b1749",
   "metadata": {},
   "outputs": [],
   "source": []
  },
  {
   "cell_type": "code",
   "execution_count": null,
   "id": "002c42f1",
   "metadata": {},
   "outputs": [],
   "source": []
  }
 ],
 "metadata": {
  "kernelspec": {
   "display_name": "Python 3",
   "language": "python",
   "name": "python3"
  },
  "language_info": {
   "codemirror_mode": {
    "name": "ipython",
    "version": 3
   },
   "file_extension": ".py",
   "mimetype": "text/x-python",
   "name": "python",
   "nbconvert_exporter": "python",
   "pygments_lexer": "ipython3",
   "version": "3.8.0"
  }
 },
 "nbformat": 4,
 "nbformat_minor": 5
}
