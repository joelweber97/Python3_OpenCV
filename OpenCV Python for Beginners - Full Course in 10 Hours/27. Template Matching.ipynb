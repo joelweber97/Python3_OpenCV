{
 "cells": [
  {
   "cell_type": "markdown",
   "id": "ce23c25a",
   "metadata": {},
   "source": [
    "### Template Matching"
   ]
  },
  {
   "cell_type": "code",
   "execution_count": 1,
   "id": "9aa88561",
   "metadata": {},
   "outputs": [],
   "source": [
    "#method of searching and finding the location of a template image inside a larger image\n",
    "#https://docs.opencv.org/master/d4/dc6/tutorial_py_template_matching.html\n",
    "#https://docs.opencv.org/3.4/de/da9/tutorial_template_matching.html\n",
    "#cv2.matchTemplate(image, templ, method[, result[, mask]])\n",
    "#several methods\n",
    "#cv.TM_CCOEFF\n",
    "#cv.TM_CCOEFF_NORMED\n",
    "#cv.TM_CCORR\n",
    "#cv.TM_CCORR_NORMED\n",
    "#cv.TM_SQDIFF\n",
    "#cv.TM_SQDIFF_NORMED"
   ]
  },
  {
   "cell_type": "code",
   "execution_count": 35,
   "id": "f07ffbf3",
   "metadata": {},
   "outputs": [],
   "source": [
    "import cv2\n",
    "import numpy as np"
   ]
  },
  {
   "cell_type": "code",
   "execution_count": 63,
   "id": "4706c58d",
   "metadata": {},
   "outputs": [],
   "source": [
    "img = cv2.imread('./data/messi5.jpg', 1)\n",
    "gray = cv2.cvtColor(img, cv2.COLOR_BGR2GRAY)"
   ]
  },
  {
   "cell_type": "code",
   "execution_count": 64,
   "id": "4a8ce327",
   "metadata": {},
   "outputs": [],
   "source": [
    "#we will try to find the face image below in the larger img image\n",
    "face = img[83:135, 215:260]\n",
    "ball = img[280:340,330:390]\n",
    "face_gray = cv2.cvtColor(face, cv2.COLOR_BGR2GRAY)"
   ]
  },
  {
   "cell_type": "code",
   "execution_count": 65,
   "id": "da7eede9",
   "metadata": {},
   "outputs": [
    {
     "name": "stdout",
     "output_type": "stream",
     "text": [
      "[[ 8627524.  8820633.  9006686. ... 10920870. 11085244. 11246364.]\n",
      " [ 8902242.  9095528.  9280544. ... 10946066. 11106220. 11264298.]\n",
      " [ 9161350.  9355227.  9538686. ... 10963765. 11123850. 11283560.]\n",
      " ...\n",
      " [23611372. 23617292. 23642416. ... 23799208. 23759482. 23721504.]\n",
      " [23607940. 23613044. 23633886. ... 23886604. 23834448. 23786608.]\n",
      " [23568958. 23573826. 23601032. ... 24012852. 23967248. 23917838.]]\n"
     ]
    }
   ],
   "source": [
    "res = cv2.matchTemplate(gray, face_gray, cv2.TM_CCOEFF_NORMED)\n",
    "#res = cv2.matchTemplate(gray, face_gray, cv2.TM_CCORR_NORMED)\n",
    "#res = cv2.matchTemplate(gray, face_gray, cv2.TM_CCORR)\n",
    "#res = cv2.matchTemplate(gray, face_gray, cv2.TM_CCORR_NORMED)\n",
    "#res = cv2.matchTemplate(gray, face_gray, cv2.TM_CCORR_NORMED)\n",
    "#all these methods will give you a different result so you might have to try each method \n",
    "#to determine which gives you the best results\n",
    "\n",
    "print(res)\n",
    "#returns an array with pretty small values -0.04 to 0.3\n",
    "#the brightest pixel will be where the top left of the template matches inside the image."
   ]
  },
  {
   "cell_type": "code",
   "execution_count": 66,
   "id": "d62952ec",
   "metadata": {},
   "outputs": [
    {
     "name": "stdout",
     "output_type": "stream",
     "text": [
      "(array([  0,   0,   0, ..., 290, 290, 290], dtype=int64), array([  0,   1,   2, ..., 501, 502, 503], dtype=int64))\n"
     ]
    }
   ],
   "source": [
    "#now we will filter out the brightest point\n",
    "threshold = 0.95\n",
    "loc = np.where(res >= threshold)\n",
    "print(loc)"
   ]
  },
  {
   "cell_type": "code",
   "execution_count": 67,
   "id": "b5c4d0a2",
   "metadata": {},
   "outputs": [],
   "source": [
    "#now we use the w,h of the face and draw a rectangle on that based on the point given from loc\n",
    "# used as a vertex and the w,h of face to get the correct size of the rectangle\n",
    "w, h = face_gray.shape[::-1]\n",
    "\n",
    "for pt in zip(*loc[::-1]):\n",
    "    cv2.rectangle(img, pt, (pt[0]+w, pt[1]+h), (0,0,255), 2)\n",
    "    \n",
    "    \n"
   ]
  },
  {
   "cell_type": "code",
   "execution_count": 68,
   "id": "766d517c",
   "metadata": {},
   "outputs": [],
   "source": [
    "cv2.imshow('img', img)\n",
    "cv2.imshow('face', face)\n",
    "cv2.imshow('res', res)\n",
    "cv2.waitKey(0)\n",
    "cv2.destroyAllWindows()"
   ]
  },
  {
   "cell_type": "code",
   "execution_count": null,
   "id": "258ce132",
   "metadata": {},
   "outputs": [],
   "source": []
  }
 ],
 "metadata": {
  "kernelspec": {
   "display_name": "Python 3",
   "language": "python",
   "name": "python3"
  },
  "language_info": {
   "codemirror_mode": {
    "name": "ipython",
    "version": 3
   },
   "file_extension": ".py",
   "mimetype": "text/x-python",
   "name": "python",
   "nbconvert_exporter": "python",
   "pygments_lexer": "ipython3",
   "version": "3.8.0"
  }
 },
 "nbformat": 4,
 "nbformat_minor": 5
}
