{
 "cells": [
  {
   "cell_type": "markdown",
   "id": "60e55556",
   "metadata": {},
   "source": [
    "### Trackbars"
   ]
  },
  {
   "cell_type": "code",
   "execution_count": 4,
   "id": "9da950dc",
   "metadata": {},
   "outputs": [],
   "source": [
    "#usefull when you want to change a value in your image dynamically at runtime"
   ]
  },
  {
   "cell_type": "code",
   "execution_count": 2,
   "id": "2936745e",
   "metadata": {},
   "outputs": [],
   "source": [
    "import cv2\n",
    "import numpy as np"
   ]
  },
  {
   "cell_type": "code",
   "execution_count": 7,
   "id": "2586e8ce",
   "metadata": {
    "collapsed": true
   },
   "outputs": [
    {
     "name": "stdout",
     "output_type": "stream",
     "text": [
      "1\n",
      "2\n",
      "3\n",
      "4\n",
      "5\n",
      "8\n",
      "10\n",
      "15\n",
      "19\n",
      "28\n",
      "34\n",
      "42\n",
      "60\n",
      "68\n",
      "78\n",
      "92\n",
      "101\n",
      "109\n",
      "116\n",
      "120\n",
      "123\n",
      "131\n",
      "134\n",
      "136\n",
      "137\n",
      "139\n",
      "141\n",
      "143\n",
      "151\n",
      "154\n",
      "159\n",
      "160\n",
      "1\n"
     ]
    }
   ],
   "source": [
    "def nothing(x):\n",
    "    print(x)\n",
    "\n",
    "img = np.zeros((300,512, 3), np.uint8)\n",
    "cv2.namedWindow('image')\n",
    "\n",
    "#creates the trackbars that allow us to change the values of B,G,R\n",
    "cv2.createTrackbar('B', 'image', 0, 255, nothing)\n",
    "cv2.createTrackbar('G', 'image', 0, 255, nothing)\n",
    "cv2.createTrackbar('R', 'image', 0, 255, nothing)\n",
    "\n",
    "switch = '0 : OFF\\n 1: ON'\n",
    "cv2.createTrackbar(switch, 'image', 0,1, nothing)\n",
    "\n",
    "while(1):\n",
    "    cv2.imshow('image', img)\n",
    "    k = cv2.waitKey(1) & 0xFF\n",
    "    if k == 27:\n",
    "        break\n",
    "    \n",
    "    #get the values of BGR from the trackbar\n",
    "    b = cv2.getTrackbarPos('B','image')\n",
    "    g = cv2.getTrackbarPos('G', 'image')\n",
    "    r = cv2.getTrackbarPos('R', 'image')\n",
    "    s = cv2.getTrackbarPos(switch, 'image')\n",
    "    \n",
    "    #if the switch is set to 0 it changes the image to all black\n",
    "    if s == 0:\n",
    "        img[:] = 0\n",
    "    else:\n",
    "        #set the values of BGR to the image. now the sliders will change the color on the image\n",
    "        img[:] = [b,g,r]\n",
    "    \n",
    "cv2.destroyAllWindows()"
   ]
  },
  {
   "cell_type": "code",
   "execution_count": 1,
   "id": "58fdffa1",
   "metadata": {},
   "outputs": [],
   "source": [
    "import cv2\n",
    "import numpy as np"
   ]
  },
  {
   "cell_type": "code",
   "execution_count": 2,
   "id": "4ebbeb90",
   "metadata": {
    "collapsed": true
   },
   "outputs": [
    {
     "name": "stdout",
     "output_type": "stream",
     "text": [
      "101\n",
      "103\n",
      "105\n",
      "115\n",
      "119\n",
      "126\n",
      "141\n",
      "146\n",
      "154\n",
      "160\n",
      "169\n",
      "180\n",
      "183\n",
      "187\n",
      "193\n",
      "195\n",
      "196\n",
      "201\n",
      "202\n",
      "203\n",
      "204\n",
      "206\n",
      "207\n",
      "210\n",
      "211\n",
      "213\n",
      "216\n",
      "219\n",
      "221\n",
      "222\n",
      "223\n",
      "225\n",
      "228\n",
      "229\n",
      "231\n",
      "233\n",
      "235\n",
      "239\n",
      "240\n",
      "241\n",
      "242\n",
      "245\n",
      "246\n",
      "247\n",
      "248\n",
      "250\n",
      "251\n",
      "254\n",
      "255\n",
      "256\n",
      "257\n",
      "259\n",
      "260\n",
      "261\n",
      "1\n"
     ]
    }
   ],
   "source": [
    "#Another example of trackbars\n",
    "def nothing(x):\n",
    "    print(x)\n",
    "\n",
    "cv2.namedWindow('image')\n",
    "cv2.createTrackbar('CP', 'image', 100, 400, nothing)\n",
    "switch = 'Color/Gray'\n",
    "cv2.createTrackbar(switch, 'image', 0,1, nothing)\n",
    "\n",
    "while(1):\n",
    "    img = cv2.imread('./data/lena.jpg', 1)\n",
    "    pos = cv2.getTrackbarPos('CP', 'image')\n",
    "    font = cv2.FONT_HERSHEY_SIMPLEX\n",
    "    cv2.putText(img, str(pos), (50,150), font, 4, (0,0,255))\n",
    "    \n",
    "    k = cv2.waitKey(1) & 0xFF\n",
    "    if k == 27:\n",
    "        break\n",
    "        \n",
    "    s = cv2.getTrackbarPos(switch, 'image')\n",
    "    if s == 0:\n",
    "        pass\n",
    "    else:\n",
    "        img = cv2.cvtColor(img, cv2.COLOR_BGR2GRAY)\n",
    "    \n",
    "    img = cv2.imshow('image', img)\n",
    "cv2.destroyAllWindows()"
   ]
  },
  {
   "cell_type": "code",
   "execution_count": null,
   "id": "1f0b347d",
   "metadata": {},
   "outputs": [],
   "source": []
  }
 ],
 "metadata": {
  "kernelspec": {
   "display_name": "Python 3",
   "language": "python",
   "name": "python3"
  },
  "language_info": {
   "codemirror_mode": {
    "name": "ipython",
    "version": 3
   },
   "file_extension": ".py",
   "mimetype": "text/x-python",
   "name": "python",
   "nbconvert_exporter": "python",
   "pygments_lexer": "ipython3",
   "version": "3.8.0"
  }
 },
 "nbformat": 4,
 "nbformat_minor": 5
}
