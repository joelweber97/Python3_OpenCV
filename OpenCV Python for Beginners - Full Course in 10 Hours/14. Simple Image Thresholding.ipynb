{
 "cells": [
  {
   "cell_type": "markdown",
   "id": "fb30b371",
   "metadata": {},
   "source": [
    "### Thresholding on Images"
   ]
  },
  {
   "cell_type": "code",
   "execution_count": 12,
   "id": "89c5a1a1",
   "metadata": {},
   "outputs": [],
   "source": [
    "#thresholding a popular segmenting technique to separate an object from its background\n",
    "#involves comparing each pixel of an image with a predefined threshold value\n",
    "#divides all the pixels of the input image into 2 groups\n",
    "#first group is the pixels with intensity value lower than the threshold\n",
    "#second group is the pixels with intensity value higher than the threshold"
   ]
  },
  {
   "cell_type": "code",
   "execution_count": 13,
   "id": "cffd22a4",
   "metadata": {},
   "outputs": [],
   "source": [
    "import cv2\n",
    "import numpy as np"
   ]
  },
  {
   "cell_type": "code",
   "execution_count": 14,
   "id": "c76391b6",
   "metadata": {},
   "outputs": [],
   "source": [
    "img = cv2.imread('./data/gradient.png', 0)"
   ]
  },
  {
   "cell_type": "code",
   "execution_count": 32,
   "id": "8e7b6d8d",
   "metadata": {},
   "outputs": [],
   "source": [
    "#binary threshold - values in original image with intensity > 127 get a value of 255 \n",
    "#while pixels with intensity value < 127 get a new value of 0\n",
    "_, thresh1 = cv2.threshold(img, 127, 255, cv2.THRESH_BINARY)\n",
    "#THRESH_BINARY_INV gives the inverse of the above. Sets high intensity values in original img to 0 \n",
    "#and low intensity values in img to 255\n",
    "_, thresh2 = cv2.threshold(img, 127, 255, cv2.THRESH_BINARY_INV)\n",
    "#Pixels below the threshold value will not be changed. Values above the threshold value will be\n",
    "#set to that threshold value (75 in this case).\n",
    "_, thresh3 = cv2.threshold(img, 75, 255, cv2.THRESH_TRUNC)\n",
    "#sets any pixel below the threshold value to 0 while keeping the pixels above the threshold\n",
    "#value at their original pixel values\n",
    "_, thresh4 = cv2.threshold(img, 75, 255, cv2.THRESH_TOZERO)\n",
    "#inverse of above. sets everything above the threshold to 0 while keeping the original \n",
    "#pixel values for everything below the threshold value\n",
    "_,thresh5 = cv2.threshold(img, 75, 255, cv2.THRESH_TOZERO_INV)\n",
    "\n",
    "cv2.imshow('image', img)\n",
    "cv2.imshow('Thresh1', thresh1)\n",
    "cv2.imshow('Thresh2', thresh2)\n",
    "cv2.imshow('Thresh3', thresh3)\n",
    "cv2.imshow('Thresh4', thresh4)\n",
    "cv2.imshow('Thresh5', thresh5)\n",
    "cv2.waitKey(0)\n",
    "cv2.destroyAllWindows()"
   ]
  },
  {
   "cell_type": "code",
   "execution_count": null,
   "id": "90950b2b",
   "metadata": {},
   "outputs": [],
   "source": []
  }
 ],
 "metadata": {
  "kernelspec": {
   "display_name": "Python 3",
   "language": "python",
   "name": "python3"
  },
  "language_info": {
   "codemirror_mode": {
    "name": "ipython",
    "version": 3
   },
   "file_extension": ".py",
   "mimetype": "text/x-python",
   "name": "python",
   "nbconvert_exporter": "python",
   "pygments_lexer": "ipython3",
   "version": "3.8.0"
  }
 },
 "nbformat": 4,
 "nbformat_minor": 5
}
