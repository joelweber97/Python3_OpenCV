{
 "cells": [
  {
   "cell_type": "markdown",
   "id": "7019368e",
   "metadata": {},
   "source": [
    "### Image Blending Using Pyramids"
   ]
  },
  {
   "cell_type": "code",
   "execution_count": 1,
   "id": "d0588a3a",
   "metadata": {},
   "outputs": [],
   "source": [
    "import cv2\n",
    "import numpy as np"
   ]
  },
  {
   "cell_type": "code",
   "execution_count": 2,
   "id": "6188f09a",
   "metadata": {},
   "outputs": [
    {
     "name": "stdout",
     "output_type": "stream",
     "text": [
      "(512, 512, 3)\n",
      "(512, 512, 3)\n"
     ]
    }
   ],
   "source": [
    "apple = cv2.imread('./data/apple.jpg')\n",
    "orange = cv2.imread('./data/orange.jpg')\n",
    "print(apple.shape)\n",
    "print(orange.shape)"
   ]
  },
  {
   "cell_type": "code",
   "execution_count": 6,
   "id": "917245ef",
   "metadata": {},
   "outputs": [],
   "source": [
    "#half and half method\n",
    "apple_orange = np.hstack((apple[:, :256], orange[:, 256:]))\n",
    "#cuts each image in half and merged the two halfs together. \n",
    "# it works but it has a sharp ege between the two halves."
   ]
  },
  {
   "cell_type": "code",
   "execution_count": 7,
   "id": "ef1382dd",
   "metadata": {},
   "outputs": [],
   "source": [
    "#blending method using image pyramids\n",
    "#five steps required to blend with pyramids\n",
    "#1. load the two images \n",
    "#2. find the gaussian pyramds for apple and orange (we will use 6 pyramids)\n",
    "#3. from gaussian pyramids, find their laplacian pyramids\n",
    "#4. now joing the left half and right half in each level of laplacian pyramids\n",
    "#5. finally, from this join image pypramids, reconstruct the origianl image.\n",
    "\n",
    "#1.\n",
    "apple = cv2.imread('./data/apple.jpg')\n",
    "orange = cv2.imread('./data/orange.jpg')\n",
    "\n",
    "#2.\n",
    "apple_copy = apple.copy()\n",
    "gp_apple = [apple_copy]\n",
    "for i in range(6):\n",
    "    apple_copy = cv2.pyrDown(apple_copy)\n",
    "    gp_apple.append(apple_copy)\n",
    "\n",
    "orange_copy = orange.copy()\n",
    "gp_orange = [orange_copy]\n",
    "for i in range(6):\n",
    "    orange_copy = cv2.pyrDown(orange_copy)\n",
    "    gp_orange.append(orange_copy)\n",
    "    \n",
    "#3.\n",
    "apple_copy = gp_apple[5]\n",
    "lp_apple = [apple_copy]\n",
    "for i in range(5,0,-1):\n",
    "    gaussian_extended = cv2.pyrUp(gp_apple[i])\n",
    "    laplacian = cv2.subtract(gp_apple[i-1], gaussian_extended)\n",
    "    lp_apple.append(laplacian)\n",
    "    \n",
    "orange_copy = gp_orange[5]\n",
    "lp_orange = [orange_copy]\n",
    "for i in range(5,0,-1):\n",
    "    gaussian_extended = cv2.pyrUp(gp_orange[i])\n",
    "    laplacian = cv2.subtract(gp_orange[i-1], gaussian_extended)\n",
    "    lp_orange.append(laplacian)\n",
    "    \n",
    "#4.\n",
    "apple_orange_pyramid = []\n",
    "n = 0\n",
    "for apple_lap, orange_lap in zip(lp_apple, lp_orange):\n",
    "    n += 1\n",
    "    cols, rows, ch = apple_lap.shape\n",
    "    laplacian = np.hstack((apple_lap[:,0:int(cols/2)], orange_lap[:,int(cols/2):]))\n",
    "    apple_orange_pyramid.append(laplacian)\n",
    "    \n",
    "#5.\n",
    "apple_orange_reconstruct = apple_orange_pyramid[0]\n",
    "for i in range(1,6):\n",
    "    apple_orange_reconstruct = cv2.pyrUp(apple_orange_reconstruct)\n",
    "    apple_orange_reconstruct = cv2.add(apple_orange_pyramid[i], apple_orange_reconstruct)"
   ]
  },
  {
   "cell_type": "code",
   "execution_count": null,
   "id": "e9c3e583",
   "metadata": {},
   "outputs": [],
   "source": []
  },
  {
   "cell_type": "code",
   "execution_count": 8,
   "id": "e189e4c3",
   "metadata": {},
   "outputs": [],
   "source": [
    "cv2.imshow('apple', apple)\n",
    "cv2.imshow('orange', orange)\n",
    "cv2.imshow('apple_orange', apple_orange)\n",
    "cv2.imshow('ao reconstruct', apple_orange_reconstruct)\n",
    "cv2.waitKey(0)\n",
    "cv2.destroyAllWindows()"
   ]
  },
  {
   "cell_type": "code",
   "execution_count": null,
   "id": "07eaf39b",
   "metadata": {},
   "outputs": [],
   "source": []
  }
 ],
 "metadata": {
  "kernelspec": {
   "display_name": "Python 3",
   "language": "python",
   "name": "python3"
  },
  "language_info": {
   "codemirror_mode": {
    "name": "ipython",
    "version": 3
   },
   "file_extension": ".py",
   "mimetype": "text/x-python",
   "name": "python",
   "nbconvert_exporter": "python",
   "pygments_lexer": "ipython3",
   "version": "3.8.0"
  }
 },
 "nbformat": 4,
 "nbformat_minor": 5
}
