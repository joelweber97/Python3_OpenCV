{
 "cells": [
  {
   "cell_type": "markdown",
   "id": "4a4cd670",
   "metadata": {},
   "source": [
    "### Camshift Object Tracking"
   ]
  },
  {
   "cell_type": "markdown",
   "id": "5dd6f7de",
   "metadata": {},
   "source": [
    "Continuously Adaptive Mean Shift\n",
    "\n",
    " \\\n",
    " starts by applying mean shift but once the window converges it updates the size of the window"
   ]
  },
  {
   "cell_type": "code",
   "execution_count": 1,
   "id": "fae208e8",
   "metadata": {},
   "outputs": [],
   "source": [
    "import numpy as np\n",
    "import cv2"
   ]
  },
  {
   "cell_type": "code",
   "execution_count": 7,
   "id": "c7881388",
   "metadata": {},
   "outputs": [],
   "source": [
    "cap = cv2.VideoCapture('./data/highway.mp4')\n",
    "\n",
    "#take the first frame of the video\n",
    "ret, frame = cap.read()\n",
    "\n",
    "#setup initial location of window\n",
    "x,y,width,height = 460, 175, 50, 40\n",
    "track_window = (x,y,width, height)\n",
    "\n",
    "#define histogram back projection\n",
    "#set up the ROI for tracking\n",
    "roi = frame[y:y+height, x:x+width]\n",
    "#convert roi to hsv color space\n",
    "hsv_roi = cv2.cvtColor(roi, cv2.COLOR_BGR2HSV)\n",
    "#calculate mask\n",
    "mask = cv2.inRange(hsv_roi, np.array((0., 60., 32.)), np.array((180., 255., 255.)))\n",
    "#calculate histogram values\n",
    "roi_hist = cv2.calcHist([hsv_roi], [0], mask, [180], [0,180])\n",
    "#normalize hist values\n",
    "cv2.normalize(roi_hist, roi_hist, 0, 255, cv2.NORM_MINMAX)\n",
    "\n",
    "\n",
    "#setup the termination criteria, either 10 iterations or move by at least 1 point\n",
    "term_crit = (cv2.TERM_CRITERIA_EPS | cv2.TERM_CRITERIA_COUNT, 10, 1)\n",
    "\n",
    "\n",
    "while(1):\n",
    "    ret,frame = cap.read()\n",
    "    if ret == True:\n",
    "        #convert the frame to hsv\n",
    "        hsv = cv2.cvtColor(frame, cv2.COLOR_BGR2HSV)\n",
    "        #calculate back projected image\n",
    "        dst = cv2.calcBackProject([hsv], [0], roi_hist, [0,180], 1)\n",
    "        #apply mean shift to get the new location\n",
    "        ret, track_window = cv2.CamShift(dst, track_window, term_crit)\n",
    "        #draw it on image\n",
    "        pts = cv2.boxPoints(ret)\n",
    "        #convert pts into integer\n",
    "        pts = np.int0(pts)\n",
    "        #draw the points\n",
    "        final_image = cv2.polylines(frame, [pts], True, (255,0,255), 2)\n",
    "        cv2.imshow('final_image', final_image)\n",
    "        cv2.imshow('back projected', dst)\n",
    "        if cv2.waitKey(100) & 0xFF == ord('q'):\n",
    "            break\n",
    "    else:\n",
    "        break\n",
    "        \n",
    "cap.release()\n",
    "cv2.destroyAllWindows()"
   ]
  },
  {
   "cell_type": "markdown",
   "id": "0c3c2298",
   "metadata": {},
   "source": [
    "This gives shitty results but I used a different image so I'm not surprized that the same params don't work for this video."
   ]
  },
  {
   "cell_type": "code",
   "execution_count": null,
   "id": "7afa030f",
   "metadata": {},
   "outputs": [],
   "source": []
  }
 ],
 "metadata": {
  "kernelspec": {
   "display_name": "Python 3",
   "language": "python",
   "name": "python3"
  },
  "language_info": {
   "codemirror_mode": {
    "name": "ipython",
    "version": 3
   },
   "file_extension": ".py",
   "mimetype": "text/x-python",
   "name": "python",
   "nbconvert_exporter": "python",
   "pygments_lexer": "ipython3",
   "version": "3.8.0"
  }
 },
 "nbformat": 4,
 "nbformat_minor": 5
}
