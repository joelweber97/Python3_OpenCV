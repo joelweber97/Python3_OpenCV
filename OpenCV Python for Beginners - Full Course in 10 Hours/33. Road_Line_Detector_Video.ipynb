{
 "cells": [
  {
   "cell_type": "markdown",
   "id": "2a57e185",
   "metadata": {},
   "source": [
    "### Road Line Detection Pt 3"
   ]
  },
  {
   "cell_type": "code",
   "execution_count": null,
   "id": "0e7dff32",
   "metadata": {},
   "outputs": [],
   "source": [
    "#doing line detection on a video is the same as an image except we just have to run it\n",
    "#on every single frame of the image"
   ]
  },
  {
   "cell_type": "code",
   "execution_count": 2,
   "id": "4156f8b0",
   "metadata": {},
   "outputs": [],
   "source": [
    "import numpy as np\n",
    "import cv2"
   ]
  },
  {
   "cell_type": "code",
   "execution_count": 3,
   "id": "c3bebd67",
   "metadata": {},
   "outputs": [],
   "source": [
    "#function that draws the lines\n",
    "def draw_lines(img, lines):\n",
    "    img = np.copy(img)\n",
    "    #create blank image that matches the original image size\n",
    "    blank_image = np.zeros((img.shape[0], img.shape[1], img.shape[2]), dtype = np.uint8)\n",
    "    #loop through line vectors\n",
    "    for i in lines:\n",
    "        #get the 4 coordinates for each line vector\n",
    "        for x1,y1,x2,y2 in i:\n",
    "            #draw the lines onto the blank image\n",
    "            cv2.line(blank_image, (x1,y1), (x2,y2), (255,0,0), 4)\n",
    "    \n",
    "    #merge image with lines with the original image\n",
    "    #addWeighted(src1, alpha, src2, beta, gamma[, dst[, dtype]])\n",
    "    img = cv2.addWeighted(img, 0.8, blank_image, 1, 0.0)\n",
    "    return img"
   ]
  },
  {
   "cell_type": "code",
   "execution_count": 4,
   "id": "663e18b4",
   "metadata": {},
   "outputs": [],
   "source": [
    "#function that will mask out areas we don't want.\n",
    "def region_of_interest(img, vertices):\n",
    "    #create 0's in the same size as the img\n",
    "    mask = np.zeros_like(img)\n",
    "    #set the masked area to white\n",
    "    match_mask_color = 255\n",
    "    #sets the area inside the vertices to all white pixels.\n",
    "    #fillPoly(img, pts, color[, lineType[, shift[, offset]]])\n",
    "    cv2.fillPoly(mask, vertices, match_mask_color)\n",
    "    #crop out the masked part using the bitwise_and function.\n",
    "    #keeps the area were the images are different which would be the white area.\n",
    "    #bitwise_and(src1, src2[, dst[, mask]])\n",
    "    masked_img = cv2.bitwise_and(img, mask)\n",
    "    return masked_img"
   ]
  },
  {
   "cell_type": "code",
   "execution_count": 16,
   "id": "ae9e3295",
   "metadata": {},
   "outputs": [],
   "source": [
    "def process(image):\n",
    "    #find the edges\n",
    "    #cvtColor(src, code[, dst[, dstCn]])\n",
    "    gray_image = cv2.cvtColor(image, cv2.COLOR_RGB2GRAY)\n",
    "    #Canny(image, threshold1, threshold2[, edges[, apertureSize[, L2gradient]]])\n",
    "    canny_image = cv2.Canny(gray_image, 100, 200)\n",
    "    #we need to run this before masking the image or the edge detection will pick up the edges\n",
    "    #on the edges of the mask as well.\n",
    "\n",
    "    #print(image.shape)\n",
    "\n",
    "    #define the vertices of the polygon that we want to keep\n",
    "    region_vertices = np.array([(110, 540), (440,320), (530, 320), (960, 540)], np.int32)\n",
    "\n",
    "    #now we will crop the image\n",
    "    cropped_image = region_of_interest(canny_image, [region_vertices])\n",
    "\n",
    "    #use HoughLinesP() to get the lines\n",
    "    #HoughLinesP(image, rho, theta, threshold[, lines[, minLineLength[, maxLineGap]]])\n",
    "    #this returns all the line vectors that are detected\n",
    "    lines = cv2.HoughLinesP(cropped_image, \n",
    "                            rho = 2, \n",
    "                            theta = np.pi/60, \n",
    "                            threshold = 50, \n",
    "                            lines = np.array([]),\n",
    "                            minLineLength = 20, \n",
    "                            maxLineGap = 100)\n",
    "\n",
    "    #this returns all the line vectors that are detected\n",
    "    #print(lines)\n",
    "\n",
    "    #actually draw the lines on the original image using the draw_lines function create above\n",
    "    image_with_lines = draw_lines(image, lines)\n",
    "    return image_with_lines"
   ]
  },
  {
   "cell_type": "code",
   "execution_count": 17,
   "id": "189217ea",
   "metadata": {},
   "outputs": [],
   "source": [
    "#read the video\n",
    "cap = cv2.VideoCapture('./data/solidWhiteRight.mp4')\n",
    "frame_time = 100\n",
    "while(cap.isOpened()):\n",
    "    ret, frame = cap.read()\n",
    "\n",
    "    if ret:\n",
    "        #run the process function on each frame.\n",
    "        #this function will return the image with the lines for each frame\n",
    "        frame = process(frame)\n",
    "        cv2.imshow('frame',frame)\n",
    "        #cv2.waitKey(x) where x = number of seconds between a frame\n",
    "        if cv2.waitKey(frame_time) & 0xFF == ord('q'):\n",
    "            break\n",
    "    else:\n",
    "        break\n",
    "\n",
    "cap.release()\n",
    "cv2.destroyAllWindows()"
   ]
  },
  {
   "cell_type": "code",
   "execution_count": null,
   "id": "7a455e11",
   "metadata": {},
   "outputs": [],
   "source": []
  }
 ],
 "metadata": {
  "kernelspec": {
   "display_name": "Python 3",
   "language": "python",
   "name": "python3"
  },
  "language_info": {
   "codemirror_mode": {
    "name": "ipython",
    "version": 3
   },
   "file_extension": ".py",
   "mimetype": "text/x-python",
   "name": "python",
   "nbconvert_exporter": "python",
   "pygments_lexer": "ipython3",
   "version": "3.8.0"
  }
 },
 "nbformat": 4,
 "nbformat_minor": 5
}
