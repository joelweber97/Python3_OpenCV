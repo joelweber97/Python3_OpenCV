{
 "cells": [
  {
   "cell_type": "markdown",
   "id": "1b74fc21",
   "metadata": {},
   "source": [
    "### Adaptive Thresholding"
   ]
  },
  {
   "cell_type": "code",
   "execution_count": 34,
   "id": "bf03a6c6",
   "metadata": {},
   "outputs": [],
   "source": [
    "#method where the threshold is calculated for a smaller region.\n",
    "#there will be different threshold values for different regions of an image\n",
    "\n",
    "#useful with different lighting conditions in different regions "
   ]
  },
  {
   "cell_type": "code",
   "execution_count": 33,
   "id": "9e85ef2c",
   "metadata": {},
   "outputs": [],
   "source": [
    "import cv2\n",
    "import numpy as np"
   ]
  },
  {
   "cell_type": "code",
   "execution_count": 39,
   "id": "c05f8773",
   "metadata": {},
   "outputs": [],
   "source": [
    "img = cv2.imread('./data/sudoku.png', 0)"
   ]
  },
  {
   "cell_type": "code",
   "execution_count": 40,
   "id": "cbf7bc39",
   "metadata": {},
   "outputs": [],
   "source": [
    "#standard thresholding that produces bad results\n",
    "_, thresh1 = cv2.threshold(img, 127, 255, cv2.THRESH_BINARY)\n",
    "\n",
    "#ADAPTIVE_THRESH_MEAN_C = mean of of the blocksize x blocksize neighborhoold of (x,y) minus c\n",
    "#produces much better results\n",
    "thresh2 = cv2.adaptiveThreshold(img, 255, cv2.ADAPTIVE_THRESH_MEAN_C, cv2.THRESH_BINARY, 11, 2)\n",
    "\n",
    "#ADAPTIVE_THRESH_GAUSSIAN_C = threshold value T(x, y) is a weighted sum of the blocksize x blocksize\n",
    "#neighborhood of (x,y) minus c\n",
    "#not much different from the one above. still way better than the first one\n",
    "thresh3 = cv2.adaptiveThreshold(img, 255, cv2.ADAPTIVE_THRESH_GAUSSIAN_C, cv2.THRESH_BINARY, 11, 2)"
   ]
  },
  {
   "cell_type": "code",
   "execution_count": null,
   "id": "5c7ef6e1",
   "metadata": {},
   "outputs": [],
   "source": [
    "cv2.imshow('img', img)\n",
    "cv2.imshow('Thresh1', thresh1)\n",
    "cv2.imshow('Thresh2', thresh2)\n",
    "cv2.imshow('Thresh3', thresh3)\n",
    "cv2.waitKey(0)\n",
    "cv2.destroyAllWindows()"
   ]
  },
  {
   "cell_type": "code",
   "execution_count": null,
   "id": "f86f6313",
   "metadata": {},
   "outputs": [],
   "source": []
  }
 ],
 "metadata": {
  "kernelspec": {
   "display_name": "Python 3",
   "language": "python",
   "name": "python3"
  },
  "language_info": {
   "codemirror_mode": {
    "name": "ipython",
    "version": 3
   },
   "file_extension": ".py",
   "mimetype": "text/x-python",
   "name": "python",
   "nbconvert_exporter": "python",
   "pygments_lexer": "ipython3",
   "version": "3.8.0"
  }
 },
 "nbformat": 4,
 "nbformat_minor": 5
}
