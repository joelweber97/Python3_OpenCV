{
 "cells": [
  {
   "cell_type": "markdown",
   "id": "5816bcb6",
   "metadata": {},
   "source": [
    "### Eye Detection using Haar Feature Based Cascade Classifiers Image"
   ]
  },
  {
   "cell_type": "markdown",
   "id": "8f7a2919",
   "metadata": {},
   "source": [
    "Effective object detection method. A machine learning based approach where a cascade function is trained for a lot of positive and negative images. \\\n",
    " \\\n",
    "First, a classifier (namely a cascade of boosted classifiers workign with haar-like features) is trained with a few hundred sample views of a patricular object (i.e. a face or a car), called positive examples, that are scaled to the same size (say, 20x20), and negative examples - arbitrary images of the same size. \\\n",
    " \\\n",
    "After the classifier is trained it can be applied to a region of interest of an input image and if it outputs a 1 there's a face otherwise it will output a 0"
   ]
  },
  {
   "cell_type": "markdown",
   "id": "984e6644",
   "metadata": {},
   "source": [
    "OpenCV comes with a trainer as well as a detector so you can train your own classifier to detect any object, like a watch or a car. \\\n",
    " \\\n",
    "Opencv's github page also has some trained classifiers in xml format. \\\n",
    " \\\n",
    "Since we want to detect eyes we will use the haarcascade_eye_tree_eyeglasses.xml classifier which we will run inside of the face classifier rectangle. This is because eyes will only occur inside a face"
   ]
  },
  {
   "cell_type": "code",
   "execution_count": 4,
   "id": "dbf65e21",
   "metadata": {},
   "outputs": [],
   "source": [
    "import cv2\n",
    "import numpy as np"
   ]
  },
  {
   "cell_type": "code",
   "execution_count": 5,
   "id": "a00656ae",
   "metadata": {},
   "outputs": [],
   "source": [
    "#before loading the image we will define the face and eye classifier\n",
    "face_cascade = cv2.CascadeClassifier('./data/haarcascades/haarcascade_frontalface_default.xml')\n",
    "eye_cascade = cv2.CascadeClassifier('./data/haarcascades/haarcascade_eye_tree_eyeglasses.xml')"
   ]
  },
  {
   "cell_type": "code",
   "execution_count": 14,
   "id": "1f0a84bc",
   "metadata": {},
   "outputs": [],
   "source": [
    "#read in the image and since the cascade classifier will work with grayscale image we need to\n",
    "#convert it to gray\n",
    "img = cv2.imread('./data/face1.jpg')\n",
    "gray = cv2.cvtColor(img, cv2.COLOR_BGR2GRAY)"
   ]
  },
  {
   "cell_type": "markdown",
   "id": "ac6e2012",
   "metadata": {},
   "source": [
    "objects = cv2.CascadeClassifier.detectMultiScale(image, scaleFactor, minNeighbors) \\\n",
    " \\\n",
    "objects: Vector of rectangles where each rectangle contains the detected object. The retangles may be partially outisde the original image \\\n",
    " \\\n",
    "image: matrix of the type CV_8U containing an image where objects are detected. \\\n",
    " \\\n",
    " scaleFactor: parameter specifying how much the image size is reduced at each image scale. \\\n",
    "  \\\n",
    " minNeighbors: param specifying how many neighbors each candidate rectangle should have to retain it. "
   ]
  },
  {
   "cell_type": "code",
   "execution_count": 15,
   "id": "bf480a64",
   "metadata": {},
   "outputs": [],
   "source": [
    "#use the detectMultiScale method on the face_cascade CascadeClassifier object\n",
    "#detectMultiScale(image[, scaleFactor[, minNeighbors[, flags[, minSize[, maxSize]]]]])\n",
    "faces = face_cascade.detectMultiScale(gray, \n",
    "                                      scaleFactor = 1.1,\n",
    "                                     minNeighbors = 4)"
   ]
  },
  {
   "cell_type": "code",
   "execution_count": 16,
   "id": "f6f317f8",
   "metadata": {},
   "outputs": [],
   "source": [
    "#iterate over all the faces we have detected and draw our retangles\n",
    "for (x,y,w,h) in faces:\n",
    "    #rectangle(img, pt1, pt2, color[, thickness[, lineType[, shift]]])\n",
    "    cv2.rectangle(img, (x,y), (x+w, y+h), (255,0,255), 2)\n",
    "    #we will set the face rectangle as the roi for the eye classifier.\n",
    "    roi_color = img[y:y+h, x:x+w]\n",
    "    roi_gray = gray[y:y+h, x:x+w]\n",
    "    #use the detectMultiScale method on the eye_cascade CascadeClassifier object within the face rectangle\n",
    "    #detectMultiScale(image[, scaleFactor[, minNeighbors[, flags[, minSize[, maxSize]]]]])\n",
    "    eyes = eye_cascade.detectMultiScale(roi_gray, \n",
    "                                          scaleFactor = 1.1,\n",
    "                                         minNeighbors = 4)\n",
    "    for (ex,ey,ew,eh) in eyes:\n",
    "        cv2.rectangle(roi_color, (ex,ey), (ex+ew, ey+eh), (0,255,0), 2)"
   ]
  },
  {
   "cell_type": "code",
   "execution_count": 17,
   "id": "969da1cd",
   "metadata": {},
   "outputs": [],
   "source": [
    "cv2.imshow('img', img)\n",
    "cv2.waitKey(0)\n",
    "cv2.destroyAllWindows()"
   ]
  },
  {
   "cell_type": "code",
   "execution_count": null,
   "id": "2e3e6ba4",
   "metadata": {},
   "outputs": [],
   "source": []
  },
  {
   "cell_type": "markdown",
   "id": "ff203044",
   "metadata": {},
   "source": [
    "### Eye Detection using Haar Feature Based Cascade Classifiers Video"
   ]
  },
  {
   "cell_type": "code",
   "execution_count": 3,
   "id": "8950419e",
   "metadata": {},
   "outputs": [],
   "source": [
    "import cv2\n",
    "import numpy as np\n",
    "\n",
    "#before loading the image we will define the face classifier\n",
    "face_cascade = cv2.CascadeClassifier('./data/haarcascades/haarcascade_frontalface_default.xml')\n",
    "eye_cascade = cv2.CascadeClassifier('./data/haarcascades/haarcascade_eye_tree_eyeglasses.xml')\n",
    " \n",
    "import cv2\n",
    "\n",
    "cap = cv2.VideoCapture(0)\n",
    "#print(cap.get(cv2.CAP_PROP_FRAME_WIDTH))\n",
    "#print(cap.get(cv2.CAP_PROP_FRAME_HEIGHT))\n",
    "while cap.isOpened():\n",
    "    ret, frame = cap.read()\n",
    "    gray = cv2.cvtColor(frame, cv2.COLOR_BGR2GRAY)\n",
    "    #use the detectMultiScale method on the face_cascade CascadeClassifier object\n",
    "    #detectMultiScale(image[, scaleFactor[, minNeighbors[, flags[, minSize[, maxSize]]]]])\n",
    "    faces = face_cascade.detectMultiScale(gray, \n",
    "                                          scaleFactor = 1.1,\n",
    "                                         minNeighbors = 6)\n",
    "\n",
    "    #iterate over all the faces we have detected and draw our retangles\n",
    "    for (x,y,w,h) in faces:\n",
    "        #rectangle(img, pt1, pt2, color[, thickness[, lineType[, shift]]])\n",
    "        cv2.rectangle(frame, (x,y), (x+w, y+h), (255,0,255), 2)\n",
    "        roi_gray = gray[y:y+h, x:x+w]\n",
    "        roi_color = frame[y:y+h, x:x+w]\n",
    "        eyes = eye_cascade.detectMultiScale(roi_gray)\n",
    "        for (ex,ey,ew,eh) in eyes:\n",
    "            cv2.rectangle(roi_color, (ex,ey), (ex+ew, ey+eh), (0,255,0), 2)\n",
    "    \n",
    "    \n",
    "    cv2.imshow('roi_color', frame)\n",
    "    if cv2.waitKey(1) & 0xFF == ord('q'):\n",
    "        break\n",
    "\n",
    "cap.release()\n",
    "cv2.destroyAllWindows()"
   ]
  },
  {
   "cell_type": "code",
   "execution_count": null,
   "id": "e57976ef",
   "metadata": {},
   "outputs": [],
   "source": []
  }
 ],
 "metadata": {
  "kernelspec": {
   "display_name": "Python 3",
   "language": "python",
   "name": "python3"
  },
  "language_info": {
   "codemirror_mode": {
    "name": "ipython",
    "version": 3
   },
   "file_extension": ".py",
   "mimetype": "text/x-python",
   "name": "python",
   "nbconvert_exporter": "python",
   "pygments_lexer": "ipython3",
   "version": "3.8.0"
  }
 },
 "nbformat": 4,
 "nbformat_minor": 5
}
