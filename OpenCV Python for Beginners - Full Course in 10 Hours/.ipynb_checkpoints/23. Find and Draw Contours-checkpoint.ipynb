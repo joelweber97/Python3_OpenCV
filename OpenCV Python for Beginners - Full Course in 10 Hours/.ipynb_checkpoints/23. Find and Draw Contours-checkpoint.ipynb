{
 "cells": [
  {
   "cell_type": "markdown",
   "id": "b96e9c68",
   "metadata": {},
   "source": [
    "### Find and Draw Contours"
   ]
  },
  {
   "cell_type": "code",
   "execution_count": 14,
   "id": "4840066a",
   "metadata": {},
   "outputs": [],
   "source": [
    "#curve that follows pixels that have the same color or intensity\n",
    "#useful for shape analysis, object detection, or object recognition\n",
    "#better results when using binary images so we turn it from color to gray"
   ]
  },
  {
   "cell_type": "code",
   "execution_count": 1,
   "id": "3733619d",
   "metadata": {},
   "outputs": [],
   "source": [
    "import cv2\n",
    "import numpy as np"
   ]
  },
  {
   "cell_type": "code",
   "execution_count": 2,
   "id": "717c80f6",
   "metadata": {},
   "outputs": [],
   "source": [
    "img = cv2.imread('./data/opencv-logo.png')\n",
    "imgray = cv2.cvtColor(img, cv2.COLOR_BGR2GRAY)"
   ]
  },
  {
   "cell_type": "code",
   "execution_count": 3,
   "id": "c8952454",
   "metadata": {},
   "outputs": [
    {
     "name": "stdout",
     "output_type": "stream",
     "text": [
      "number of contours: 4\n"
     ]
    }
   ],
   "source": [
    "#threshold(src, thresh, maxval, type[, dst])\n",
    "ret, thresh = cv2.threshold(imgray, 20, 255, 0)\n",
    "#findContours(image, mode, method[, contours[, hierarchy[, offset]]])\n",
    "contours, heirarchy = cv2.findContours(thresh, cv2.RETR_TREE, cv2.CHAIN_APPROX_NONE)\n",
    "#contrours is a python list of all the contours in the image\n",
    "#each individual contour is a np array of (x,y) coordinates of boundary points of the object\n",
    "#heirarchy is optional output vector containing information about image topology \n",
    "\n",
    "print('number of contours:', str(len(contours)))"
   ]
  },
  {
   "cell_type": "code",
   "execution_count": 4,
   "id": "49e6f18a",
   "metadata": {},
   "outputs": [
    {
     "data": {
      "text/plain": [
       "array([[[0, 0, 0],\n",
       "        [0, 0, 0],\n",
       "        [0, 0, 0],\n",
       "        ...,\n",
       "        [0, 0, 0],\n",
       "        [0, 0, 0],\n",
       "        [0, 0, 0]],\n",
       "\n",
       "       [[0, 0, 0],\n",
       "        [0, 0, 0],\n",
       "        [0, 0, 0],\n",
       "        ...,\n",
       "        [0, 0, 0],\n",
       "        [0, 0, 0],\n",
       "        [0, 0, 0]],\n",
       "\n",
       "       [[0, 0, 0],\n",
       "        [0, 0, 0],\n",
       "        [0, 0, 0],\n",
       "        ...,\n",
       "        [0, 0, 0],\n",
       "        [0, 0, 0],\n",
       "        [0, 0, 0]],\n",
       "\n",
       "       ...,\n",
       "\n",
       "       [[0, 0, 0],\n",
       "        [0, 0, 0],\n",
       "        [0, 0, 0],\n",
       "        ...,\n",
       "        [0, 0, 0],\n",
       "        [0, 0, 0],\n",
       "        [0, 0, 0]],\n",
       "\n",
       "       [[0, 0, 0],\n",
       "        [0, 0, 0],\n",
       "        [0, 0, 0],\n",
       "        ...,\n",
       "        [0, 0, 0],\n",
       "        [0, 0, 0],\n",
       "        [0, 0, 0]],\n",
       "\n",
       "       [[0, 0, 0],\n",
       "        [0, 0, 0],\n",
       "        [0, 0, 0],\n",
       "        ...,\n",
       "        [0, 0, 0],\n",
       "        [0, 0, 0],\n",
       "        [0, 0, 0]]], dtype=uint8)"
      ]
     },
     "execution_count": 4,
     "metadata": {},
     "output_type": "execute_result"
    }
   ],
   "source": [
    "#drawContours(image, contours, index of contour, color[, thickness[, lineType[, hierarchy[, maxLevel[, offset]]]]])\n",
    "cv2.drawContours(img, contours, -1, (0,0,255), 3)"
   ]
  },
  {
   "cell_type": "code",
   "execution_count": 5,
   "id": "1346b76d",
   "metadata": {},
   "outputs": [],
   "source": [
    "cv2.imshow('image', img)\n",
    "cv2.imshow('image gray', imgray)\n",
    "cv2.waitKey(0)\n",
    "cv2.destroyAllWindows()"
   ]
  },
  {
   "cell_type": "code",
   "execution_count": null,
   "id": "6313d045",
   "metadata": {},
   "outputs": [],
   "source": []
  }
 ],
 "metadata": {
  "kernelspec": {
   "display_name": "Python 3",
   "language": "python",
   "name": "python3"
  },
  "language_info": {
   "codemirror_mode": {
    "name": "ipython",
    "version": 3
   },
   "file_extension": ".py",
   "mimetype": "text/x-python",
   "name": "python",
   "nbconvert_exporter": "python",
   "pygments_lexer": "ipython3",
   "version": "3.8.0"
  }
 },
 "nbformat": 4,
 "nbformat_minor": 5
}
