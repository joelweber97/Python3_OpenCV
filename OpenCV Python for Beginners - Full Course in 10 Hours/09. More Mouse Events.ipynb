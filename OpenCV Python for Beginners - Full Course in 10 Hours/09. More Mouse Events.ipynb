{
 "cells": [
  {
   "cell_type": "markdown",
   "id": "11a6d89b",
   "metadata": {},
   "source": [
    "### Connecting Two Mouse Clicks with a Line"
   ]
  },
  {
   "cell_type": "code",
   "execution_count": null,
   "id": "a801b6df",
   "metadata": {},
   "outputs": [],
   "source": [
    "import numpy as np\n",
    "import cv2\n",
    "\n",
    "def click_event(event, x, y, flags, param):\n",
    "    if event == cv2.EVENT_LBUTTONDOWN:\n",
    "        cv2.circle(img, (x,y), 5, (128,128,255), -1)\n",
    "        points.append((x,y))\n",
    "        print(x,y)\n",
    "        if len(points) >= 2:\n",
    "            cv2.line(img, points[-2], points[-1], (50,255,255), 5)\n",
    "        cv2.imshow('image', img)\n",
    "\n",
    "        \n",
    "\n",
    "img = np.random.randint(0,255, size = [512,512,3],dtype = 'uint8')\n",
    "cv2.imshow('image',img)\n",
    "points = []\n",
    "cv2.setMouseCallback('image', click_event)\n",
    "\n",
    "cv2.waitKey(0)\n",
    "cv2.destroyAllWindows()"
   ]
  },
  {
   "cell_type": "markdown",
   "id": "43095577",
   "metadata": {},
   "source": [
    "### Showing the color of the point clicked on a second window"
   ]
  },
  {
   "cell_type": "code",
   "execution_count": null,
   "id": "67467905",
   "metadata": {},
   "outputs": [],
   "source": [
    "import numpy as np\n",
    "import cv2\n",
    "\n",
    "def click_event(event, x, y, flags, param):\n",
    "    if event == cv2.EVENT_LBUTTONDOWN:\n",
    "        blue = img[y,x,0]\n",
    "        green = img[y,x,1]\n",
    "        red = img[y,x,2]\n",
    "        \n",
    "        cv2.circle(img, (x,y), 3, (100,100,100), -1)\n",
    "        mycolorImage = np.zeros((512,512,3), np.uint8)\n",
    "        \n",
    "        mycolorImage[:] = [blue, green, red]\n",
    "        cv2.imshow('colorwindow', mycolorImage)\n",
    "\n",
    "        \n",
    "\n",
    "img = np.random.randint(0,255, size = [2,2,3],dtype = 'uint8')\n",
    "img = cv2.resize(img, (512,512))\n",
    "cv2.imshow('image',img)\n",
    "points = []\n",
    "cv2.setMouseCallback('image', click_event)\n",
    "\n",
    "cv2.waitKey(0)\n",
    "cv2.destroyAllWindows()"
   ]
  }
 ],
 "metadata": {
  "kernelspec": {
   "display_name": "Python 3",
   "language": "python",
   "name": "python3"
  },
  "language_info": {
   "codemirror_mode": {
    "name": "ipython",
    "version": 3
   },
   "file_extension": ".py",
   "mimetype": "text/x-python",
   "name": "python",
   "nbconvert_exporter": "python",
   "pygments_lexer": "ipython3",
   "version": "3.8.0"
  }
 },
 "nbformat": 4,
 "nbformat_minor": 5
}
