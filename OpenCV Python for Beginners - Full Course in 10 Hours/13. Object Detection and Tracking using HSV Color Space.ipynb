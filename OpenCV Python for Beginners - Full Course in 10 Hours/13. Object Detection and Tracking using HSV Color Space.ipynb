{
 "cells": [
  {
   "cell_type": "markdown",
   "id": "95e375b2",
   "metadata": {},
   "source": [
    "### Object Detection Using HSV Color Space in images"
   ]
  },
  {
   "cell_type": "code",
   "execution_count": 5,
   "id": "37eed12d",
   "metadata": {},
   "outputs": [],
   "source": [
    "#lets say we only want to detect a certain color of skittle from an image"
   ]
  },
  {
   "cell_type": "code",
   "execution_count": 2,
   "id": "ab6a2217",
   "metadata": {},
   "outputs": [],
   "source": [
    "import cv2\n",
    "import numpy as np"
   ]
  },
  {
   "cell_type": "code",
   "execution_count": 3,
   "id": "225d07e6",
   "metadata": {},
   "outputs": [],
   "source": [
    "def nothing(x):\n",
    "    pass"
   ]
  },
  {
   "cell_type": "code",
   "execution_count": 4,
   "id": "fb74abbe",
   "metadata": {},
   "outputs": [],
   "source": [
    "#create a new window that will have the trackbar to adjust lower and upper hsv values\n",
    "cv2.namedWindow('Tracking')\n",
    "cv2.createTrackbar('LH', 'Tracking', 0, 255, nothing)\n",
    "cv2.createTrackbar('LS', 'Tracking', 0, 255, nothing)\n",
    "cv2.createTrackbar('LV', 'Tracking', 0, 255, nothing)\n",
    "cv2.createTrackbar('UH', 'Tracking', 255, 255, nothing)\n",
    "cv2.createTrackbar('US', 'Tracking', 255, 255, nothing)\n",
    "cv2.createTrackbar('UV', 'Tracking', 255, 255, nothing)\n",
    "\n",
    "\n",
    "while True:\n",
    "    frame = cv2.imread('./data/smarties.png',1)\n",
    "    #convert image from bgr to hsv\n",
    "    hsv = cv2.cvtColor(frame, cv2.COLOR_BGR2HSV)\n",
    "    \n",
    "    l_h = cv2.getTrackbarPos('LH', 'Tracking')\n",
    "    l_s = cv2.getTrackbarPos('LS', 'Tracking')\n",
    "    l_v = cv2.getTrackbarPos('LV', 'Tracking')\n",
    "    u_h = cv2.getTrackbarPos('UH', 'Tracking')\n",
    "    u_s = cv2.getTrackbarPos('US', 'Tracking')\n",
    "    u_v = cv2.getTrackbarPos('UV', 'Tracking')\n",
    "    \n",
    "    #define threshold for blue color\n",
    "    lower_bound = np.array([l_h, l_s, l_v])\n",
    "    upper_bound = np.array([u_h, u_s, u_v])\n",
    "    #blue balls should set lower_bound = np.array([104, 47, 51]) and upper_bound = np.array([132,255,255])\n",
    "    #green balls should set lower_bound = np.array([62, 47,51]) and upper_bound = np.array([95,255,255])\n",
    "    #red balls should set lower_bound = np.array([0,26,113]) and upper_bound = np.array([58,255,255])\n",
    "    \n",
    "    \n",
    "    \n",
    "    #create a mask between lower and upper bounds\n",
    "    mask = cv2.inRange(hsv, lower_bound, upper_bound)\n",
    "    \n",
    "    #use bitwise_and to extract only the colors the vall between those pixel values\n",
    "    res = cv2.bitwise_and(frame, frame, mask=mask)\n",
    "    \n",
    "    \n",
    "    cv2.imshow('frame', frame)\n",
    "    cv2.imshow('mask', mask)\n",
    "    cv2.imshow('result', res)\n",
    "    \n",
    "    \n",
    "    key = cv2.waitKey(1)\n",
    "    if key == 27:\n",
    "        break\n",
    "\n",
    "        \n",
    "cv2.destroyAllWindows()"
   ]
  },
  {
   "cell_type": "markdown",
   "id": "f90a9e4e",
   "metadata": {},
   "source": [
    "### Object Tracking using HSV Color Space in Videos"
   ]
  },
  {
   "cell_type": "code",
   "execution_count": null,
   "id": "3b419101",
   "metadata": {},
   "outputs": [],
   "source": [
    "import cv2\n",
    "import numpy as np"
   ]
  },
  {
   "cell_type": "code",
   "execution_count": null,
   "id": "cb445724",
   "metadata": {},
   "outputs": [],
   "source": [
    "def nothing(x):\n",
    "    pass"
   ]
  },
  {
   "cell_type": "code",
   "execution_count": 5,
   "id": "19ba70bd",
   "metadata": {},
   "outputs": [],
   "source": [
    "\n",
    "cap = cv2.VideoCapture(0)\n",
    "\n",
    "\n",
    "#create a new window that will have the trackbar to adjust lower and upper hsv values\n",
    "cv2.namedWindow('Tracking')\n",
    "cv2.createTrackbar('LH', 'Tracking', 0, 255, nothing)\n",
    "cv2.createTrackbar('LS', 'Tracking', 0, 255, nothing)\n",
    "cv2.createTrackbar('LV', 'Tracking', 0, 255, nothing)\n",
    "cv2.createTrackbar('UH', 'Tracking', 255, 255, nothing)\n",
    "cv2.createTrackbar('US', 'Tracking', 255, 255, nothing)\n",
    "cv2.createTrackbar('UV', 'Tracking', 255, 255, nothing)\n",
    "\n",
    "\n",
    "while True:\n",
    "    _, frame = cap.read()\n",
    "    \n",
    "    \n",
    "    #convert image from bgr to hsv\n",
    "    hsv = cv2.cvtColor(frame, cv2.COLOR_BGR2HSV)\n",
    "    \n",
    "    l_h = cv2.getTrackbarPos('LH', 'Tracking')\n",
    "    l_s = cv2.getTrackbarPos('LS', 'Tracking')\n",
    "    l_v = cv2.getTrackbarPos('LV', 'Tracking')\n",
    "    u_h = cv2.getTrackbarPos('UH', 'Tracking')\n",
    "    u_s = cv2.getTrackbarPos('US', 'Tracking')\n",
    "    u_v = cv2.getTrackbarPos('UV', 'Tracking')\n",
    "    \n",
    "    #define threshold for blue color\n",
    "    lower_bound = np.array([l_h, l_s, l_v])\n",
    "    upper_bound = np.array([u_h, u_s, u_v])\n",
    "    #blue balls should set lower_bound = np.array([104, 47, 51]) and upper_bound = np.array([132,255,255])\n",
    "    #green balls should set lower_bound = np.array([62, 47,51]) and upper_bound = np.array([95,255,255])\n",
    "    #red balls should set lower_bound = np.array([0,26,113]) and upper_bound = np.array([58,255,255])\n",
    "    \n",
    "    \n",
    "    \n",
    "    #create a mask between lower and upper bounds\n",
    "    mask = cv2.inRange(hsv, lower_bound, upper_bound)\n",
    "    \n",
    "    #use bitwise_and to extract only the colors the vall between those pixel values\n",
    "    res = cv2.bitwise_and(frame, frame, mask=mask)\n",
    "    \n",
    "    \n",
    "    cv2.imshow('frame', frame)\n",
    "    cv2.imshow('mask', mask)\n",
    "    cv2.imshow('result', res)\n",
    "    \n",
    "    \n",
    "    key = cv2.waitKey(1)\n",
    "    if key == 27:\n",
    "        break\n",
    "\n",
    "cap.release()        \n",
    "cv2.destroyAllWindows()"
   ]
  },
  {
   "cell_type": "code",
   "execution_count": null,
   "id": "cafc4201",
   "metadata": {},
   "outputs": [],
   "source": []
  }
 ],
 "metadata": {
  "kernelspec": {
   "display_name": "Python 3",
   "language": "python",
   "name": "python3"
  },
  "language_info": {
   "codemirror_mode": {
    "name": "ipython",
    "version": 3
   },
   "file_extension": ".py",
   "mimetype": "text/x-python",
   "name": "python",
   "nbconvert_exporter": "python",
   "pygments_lexer": "ipython3",
   "version": "3.8.0"
  }
 },
 "nbformat": 4,
 "nbformat_minor": 5
}
