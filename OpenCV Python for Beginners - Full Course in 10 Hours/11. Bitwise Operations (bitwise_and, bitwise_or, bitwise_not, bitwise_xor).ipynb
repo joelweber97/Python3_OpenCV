{
 "cells": [
  {
   "cell_type": "markdown",
   "id": "031952ec",
   "metadata": {},
   "source": [
    "### Bitwise Operators"
   ]
  },
  {
   "cell_type": "code",
   "execution_count": 35,
   "id": "c3acc774",
   "metadata": {},
   "outputs": [],
   "source": [
    "#bitwise operators work well when working with masks"
   ]
  },
  {
   "cell_type": "code",
   "execution_count": 1,
   "id": "d62301c0",
   "metadata": {},
   "outputs": [],
   "source": [
    "import cv2\n",
    "import numpy as np"
   ]
  },
  {
   "cell_type": "code",
   "execution_count": 2,
   "id": "47e11d34",
   "metadata": {},
   "outputs": [],
   "source": [
    "img1 = np.zeros((250,500,3), np.uint8) #create a black image\n",
    "img1 = cv2.rectangle(img1, (200,0), (300,100), (255,255,255), -1) #adds a white rectangle to the black image\n",
    "img2 = cv2.imread('./data/image_1.png', 1)"
   ]
  },
  {
   "cell_type": "code",
   "execution_count": 46,
   "id": "8ba677f5",
   "metadata": {},
   "outputs": [],
   "source": [
    "cv2.imshow('img1', img1)\n",
    "cv2.imshow('img2', img2)\n",
    "cv2.waitKey(0)\n",
    "cv2.destroyAllWindows()"
   ]
  },
  {
   "cell_type": "code",
   "execution_count": 47,
   "id": "6c94097e",
   "metadata": {},
   "outputs": [],
   "source": [
    "#The Logic AND\n",
    "#B A Q\n",
    "#0 0 0\n",
    "#0 1 0\n",
    "#1 0 0\n",
    "#1 1 1\n",
    "#areas that are white in both images and be white in the new image\n",
    "bitAnd = cv2.bitwise_and(img2, img1)\n",
    "cv2.imshow('bitAnd', bitAnd)\n",
    "cv2.waitKey(0)\n",
    "cv2.destroyAllWindows()"
   ]
  },
  {
   "cell_type": "code",
   "execution_count": 48,
   "id": "f9d33cb7",
   "metadata": {},
   "outputs": [],
   "source": [
    "#The Logic OR\n",
    "#B A Q\n",
    "#0 0 0\n",
    "#0 1 1\n",
    "#1 0 1\n",
    "#1 1 1\n",
    "#Any area that is white will give white in the new image\n",
    "bitOr = cv2.bitwise_or(img2, img1)\n",
    "cv2.imshow('bitor', bitOr)\n",
    "cv2.waitKey(0)\n",
    "cv2.destroyAllWindows()"
   ]
  },
  {
   "cell_type": "code",
   "execution_count": 53,
   "id": "e6d021c5",
   "metadata": {},
   "outputs": [],
   "source": [
    "#The Logic XOR\n",
    "#B A Q\n",
    "#0 0 0\n",
    "#0 1 1\n",
    "#1 0 1\n",
    "#1 1 0\n",
    "#A OR B but NOT BOTH gives Q\n",
    "bitXOr = cv2.bitwise_xor(img2, img1)\n",
    "cv2.imshow('bitxor', bitXOr)\n",
    "cv2.waitKey(0)\n",
    "cv2.destroyAllWindows()"
   ]
  },
  {
   "cell_type": "code",
   "execution_count": 3,
   "id": "c3581751",
   "metadata": {},
   "outputs": [],
   "source": [
    "#The Logic NOT\n",
    "#returns the oposite of the input\n",
    "bitNot1 = cv2.bitwise_not(img1)\n",
    "bitNot2 = cv2.bitwise_not(img2)\n",
    "cv2.imshow('bitnot1', bitNot1)\n",
    "cv2.imshow('bitnot2', bitNot2)\n",
    "cv2.waitKey(0)\n",
    "cv2.destroyAllWindows()"
   ]
  },
  {
   "cell_type": "code",
   "execution_count": null,
   "id": "9f218466",
   "metadata": {},
   "outputs": [],
   "source": []
  },
  {
   "cell_type": "code",
   "execution_count": null,
   "id": "ad2559a8",
   "metadata": {},
   "outputs": [],
   "source": []
  }
 ],
 "metadata": {
  "kernelspec": {
   "display_name": "Python 3",
   "language": "python",
   "name": "python3"
  },
  "language_info": {
   "codemirror_mode": {
    "name": "ipython",
    "version": 3
   },
   "file_extension": ".py",
   "mimetype": "text/x-python",
   "name": "python",
   "nbconvert_exporter": "python",
   "pygments_lexer": "ipython3",
   "version": "3.8.0"
  }
 },
 "nbformat": 4,
 "nbformat_minor": 5
}
