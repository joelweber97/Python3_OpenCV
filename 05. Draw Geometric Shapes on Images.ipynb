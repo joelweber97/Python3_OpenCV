{
 "cells": [
  {
   "cell_type": "markdown",
   "id": "516bdfbe",
   "metadata": {},
   "source": [
    "### Drawing Geometric Shapes on Images"
   ]
  },
  {
   "cell_type": "code",
   "execution_count": 2,
   "id": "b9073018",
   "metadata": {},
   "outputs": [],
   "source": [
    "import cv2\n",
    "\n",
    "img = cv2.imread('./data/lena.jpg', 1)\n",
    "#cv2.imshow('image', img)\n",
    "#cv2.waitKey(0)\n",
    "#cv2.destroyAllWindows()"
   ]
  },
  {
   "cell_type": "code",
   "execution_count": 3,
   "id": "a008cc4d",
   "metadata": {},
   "outputs": [
    {
     "data": {
      "text/plain": [
       "(512, 512, 3)"
      ]
     },
     "execution_count": 3,
     "metadata": {},
     "output_type": "execute_result"
    }
   ],
   "source": [
    "img.shape"
   ]
  },
  {
   "cell_type": "code",
   "execution_count": 4,
   "id": "2f3284e6",
   "metadata": {},
   "outputs": [],
   "source": [
    "#draw a line\n",
    "#cv2.line(image, (starting point tuple), (ending poing tuple), (bgr tuple), thickness)\n",
    "img = cv2.line(img, (0,0), (512,255), (147,96,44), 5)\n",
    "\n",
    "#draw arrowed line\n",
    "img = cv2.arrowedLine(img, (30,500), (75,50), (0,255,0), 2)\n",
    "\n",
    "#draw a rectangle\n",
    "#cv2.rectangle(img, (pt1 tuple), (pt2 tuple), (bgr color tuple), thickness)\n",
    "img = cv2.rectangle(img, (80, 10), (150, 300), (255,0,0), 6) \n",
    "#(points 80 over 10 down to 100 over 300 down)\n",
    "#-1 thickness will fill the rectangle with the color\n",
    "img = cv2.rectangle(img, (80, 10), (150, 300), (0,0,0), -1) \n",
    "\n",
    "#draw a circle\n",
    "#img = cv2.circle(img, (center as tuple), radius, (color bgr tuple), thickness)\n",
    "img = cv2.circle(img, (255,255), 100, (0,0,128), 2)\n",
    "\n",
    "#adding text to image\n",
    "font = cv2.FONT_HERSHEY_SIMPLEX\n",
    "#img = cv2.putText(img, string text, (start point of text), fontface, \n",
    "#fontscale, color, thickness, linetype)\n",
    "img = cv2.putText(img, 'opencv', (10,500), font, 4, (128,128,128), 3, cv2.LINE_AA)\n",
    "\n",
    "\n",
    "cv2.imshow('image',img)\n",
    "cv2.waitKey(0)\n",
    "cv2.destroyAllWindows()\n",
    "#other things you draw are eclipse, polyline,polygon, etc "
   ]
  },
  {
   "cell_type": "code",
   "execution_count": null,
   "id": "c9f54245",
   "metadata": {},
   "outputs": [],
   "source": []
  },
  {
   "cell_type": "markdown",
   "id": "e63598a3",
   "metadata": {},
   "source": [
    "### Create an image using numpy zeros"
   ]
  },
  {
   "cell_type": "code",
   "execution_count": 5,
   "id": "dde8dbc6",
   "metadata": {},
   "outputs": [],
   "source": [
    "#really just creating a np array of zeros with the defined shape\n",
    "#np.zeros([shape as a list], dtype)\n",
    "img = np.zeros([512, 512, 3], np.uint8)\n",
    "img = cv2.putText(img, 'opencv', (10,500), font, 4, (128,128,128), 3, cv2.LINE_AA)\n",
    "cv2.imshow('image', img)\n",
    "cv2.waitKey(0)\n",
    "cv2.destroyAllWindows()"
   ]
  },
  {
   "cell_type": "code",
   "execution_count": null,
   "id": "8113cd7c",
   "metadata": {},
   "outputs": [],
   "source": []
  },
  {
   "cell_type": "markdown",
   "id": "c6811743",
   "metadata": {},
   "source": [
    "### Add text to videos and change resolution of video output"
   ]
  },
  {
   "cell_type": "code",
   "execution_count": 13,
   "id": "91395bd4",
   "metadata": {
    "scrolled": true
   },
   "outputs": [
    {
     "name": "stdout",
     "output_type": "stream",
     "text": [
      "640.0\n",
      "480.0\n",
      "1280.0\n",
      "720.0\n"
     ]
    }
   ],
   "source": [
    "cap = cv2.VideoCapture(0)\n",
    "print(cap.get(cv2.CAP_PROP_FRAME_WIDTH))\n",
    "print(cap.get(cv2.CAP_PROP_FRAME_HEIGHT))\n",
    "\n",
    "#able to set the cap properties (there are a lot of properties)\n",
    "#property number 3 is width and 4 is height\n",
    "cap.set(3, 1280)\n",
    "cap.set(4, 720)\n",
    "print(cap.get(3))\n",
    "print(cap.get(4))\n",
    "\n",
    "height = int(cap.get(4))\n",
    "width = int(cap.get(3))\n",
    "text = f'Width: {width}, Height: {height}'\n",
    "font = cv2.FONT_HERSHEY_SIMPLEX\n",
    "\n",
    "while cap.isOpened():\n",
    "    ret,frame = cap.read()\n",
    "    if ret == True:\n",
    "        frame = cv2.putText(frame, text, (10,50), font, 1, (0,255,255), 1, cv2.LINE_AA)\n",
    "        cv2.imshow('frame', frame)\n",
    "        if cv2.waitKey(1) & 0xFF == ord('q'):\n",
    "            break\n",
    "    else:\n",
    "        break\n",
    "        \n",
    "cap.release()\n",
    "cv2.destroyAllWindows()"
   ]
  },
  {
   "cell_type": "code",
   "execution_count": null,
   "id": "8e3efd69",
   "metadata": {},
   "outputs": [],
   "source": []
  }
 ],
 "metadata": {
  "kernelspec": {
   "display_name": "Python 3",
   "language": "python",
   "name": "python3"
  },
  "language_info": {
   "codemirror_mode": {
    "name": "ipython",
    "version": 3
   },
   "file_extension": ".py",
   "mimetype": "text/x-python",
   "name": "python",
   "nbconvert_exporter": "python",
   "pygments_lexer": "ipython3",
   "version": "3.8.0"
  }
 },
 "nbformat": 4,
 "nbformat_minor": 5
}
