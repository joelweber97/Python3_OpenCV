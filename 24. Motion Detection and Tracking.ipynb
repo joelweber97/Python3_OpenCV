{
 "cells": [
  {
   "cell_type": "markdown",
   "id": "726ab674",
   "metadata": {},
   "source": [
    "### Basic Motion Detection and Tracking"
   ]
  },
  {
   "cell_type": "code",
   "execution_count": 1,
   "id": "d585d835",
   "metadata": {},
   "outputs": [],
   "source": [
    "import cv2\n",
    "import numpy as np"
   ]
  },
  {
   "cell_type": "code",
   "execution_count": 23,
   "id": "f677fcd5",
   "metadata": {},
   "outputs": [],
   "source": [
    "cap = cv2.VideoCapture('./data/vtest.avi')"
   ]
  },
  {
   "cell_type": "code",
   "execution_count": 24,
   "id": "102b0557",
   "metadata": {},
   "outputs": [],
   "source": [
    "ret,frame1 = cap.read()\n",
    "ret,frame2 = cap.read()"
   ]
  },
  {
   "cell_type": "code",
   "execution_count": 25,
   "id": "8bb75759",
   "metadata": {},
   "outputs": [],
   "source": [
    "while cap.isOpened():\n",
    "    #find the difference between frame 1 and frame 2\n",
    "    #absdiff(src1, src2[, dst])\n",
    "    diff = cv2.absdiff(frame1, frame2)\n",
    "    #convert the difference to a grayscale\n",
    "    gray = cv2.cvtColor(diff, cv2.COLOR_BGR2GRAY)\n",
    "    #blur the grayscale frame\n",
    "    #GaussianBlur(src, ksize, sigmaX[, dst[, sigmaY[, borderType]]])\n",
    "    blur = cv2.GaussianBlur(gray, (5,5), 0)\n",
    "    #find the threshold\n",
    "    #threshold(src, thresh, maxval, type[, dst])\n",
    "    _, thresh = cv2.threshold(blur, 20, 255, cv2.THRESH_BINARY)\n",
    "    #dilate the thresholded image to fill in all the holes to help us better find the contours\n",
    "    #dilate(src, kernel[, dst[, anchor[, iterations[, borderType[, borderValue]]]]])\n",
    "    dilated = cv2.dilate(thresh, None, iterations = 3)\n",
    "    #find the contours\n",
    "    #findContours(image, mode, method[, contours[, hierarchy[, offset]]])\n",
    "    contours, _ = cv2.findContours(dilated, cv2.RETR_TREE, cv2.CHAIN_APPROX_SIMPLE)\n",
    "    #iterate over the contours\n",
    "    for contour in contours:\n",
    "        #find the bounding box around each contour\n",
    "        (x, y, w, h) = cv2.boundingRect(contour)\n",
    "        \n",
    "        #find the area of the contour and remove contours with a small area\n",
    "        if cv2.contourArea(contour) < 900:\n",
    "            continue\n",
    "        #if contour has area greater than 700px we will draw a rectangle around it\n",
    "        #rectangle(img, pt1, pt2, color[, thickness[, lineType[, shift]]])\n",
    "        cv2.rectangle(frame1, (x,y), (x+w, y+h), (0,255,0), 2)\n",
    "        #print message on the screen if there is movement\n",
    "        cv2.putText(frame1, 'Movement Found', (10,20), cv2.FONT_HERSHEY_SIMPLEX, 1, (0,0,255), 3)\n",
    "    \n",
    "    cv2.imshow('feed', frame1)\n",
    "    #set frame 2 to frame 1 and read in a new frame 2\n",
    "    frame1 = frame2\n",
    "    #reading the new frame into frame2\n",
    "    ret, frame2 = cap.read()\n",
    "    if cv2.waitKey(40) == 27:\n",
    "        break\n",
    "    \n",
    "cv2.destroyAllWindows()\n",
    "cap.release()"
   ]
  },
  {
   "cell_type": "code",
   "execution_count": null,
   "id": "075c2a19",
   "metadata": {},
   "outputs": [],
   "source": []
  }
 ],
 "metadata": {
  "kernelspec": {
   "display_name": "Python 3",
   "language": "python",
   "name": "python3"
  },
  "language_info": {
   "codemirror_mode": {
    "name": "ipython",
    "version": 3
   },
   "file_extension": ".py",
   "mimetype": "text/x-python",
   "name": "python",
   "nbconvert_exporter": "python",
   "pygments_lexer": "ipython3",
   "version": "3.8.0"
  }
 },
 "nbformat": 4,
 "nbformat_minor": 5
}
