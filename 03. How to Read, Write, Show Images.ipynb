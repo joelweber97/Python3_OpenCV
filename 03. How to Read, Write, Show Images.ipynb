{
 "cells": [
  {
   "cell_type": "markdown",
   "id": "0203adf7",
   "metadata": {},
   "source": [
    "### reading and saving images"
   ]
  },
  {
   "cell_type": "code",
   "execution_count": null,
   "id": "ced923e1",
   "metadata": {},
   "outputs": [],
   "source": [
    "import cv2\n",
    "import numpy as np"
   ]
  },
  {
   "cell_type": "code",
   "execution_count": 4,
   "id": "f9f3f760",
   "metadata": {},
   "outputs": [],
   "source": [
    "img = cv2.imread('./data/lena.jpg', -1)\n",
    "cv2.imshow('img',img)\n",
    "k = cv2.waitKey(0) & 0xFF\n",
    "#if the escape key is hit it will close the window\n",
    "#if the s key is hit it will save the image\n",
    "if k == 27:\n",
    "    cv2.destroyAllWindows()\n",
    "elif k == ord('s'):\n",
    "    cv2.imwrite('./data/lena_copy.png', img)\n",
    "    cv2.destroyAllWindows()"
   ]
  },
  {
   "cell_type": "code",
   "execution_count": null,
   "id": "9e4825f3",
   "metadata": {},
   "outputs": [],
   "source": []
  }
 ],
 "metadata": {
  "kernelspec": {
   "display_name": "Python 3",
   "language": "python",
   "name": "python3"
  },
  "language_info": {
   "codemirror_mode": {
    "name": "ipython",
    "version": 3
   },
   "file_extension": ".py",
   "mimetype": "text/x-python",
   "name": "python",
   "nbconvert_exporter": "python",
   "pygments_lexer": "ipython3",
   "version": "3.8.0"
  }
 },
 "nbformat": 4,
 "nbformat_minor": 5
}
