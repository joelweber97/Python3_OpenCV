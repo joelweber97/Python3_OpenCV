{
 "cells": [
  {
   "cell_type": "markdown",
   "id": "66271cba",
   "metadata": {},
   "source": [
    "### Image Pyramids"
   ]
  },
  {
   "cell_type": "code",
   "execution_count": 5,
   "id": "13681451",
   "metadata": {},
   "outputs": [],
   "source": [
    "#sometimes we need to work with images of different resolutions\n",
    "#pyramids is a type of multi-scale signal representation in which a signal or an image\n",
    "#is subject to repeated smoothing and subsampling\n",
    "\n",
    "#Two types of pyramids\n",
    "#1. Gaussian pyramid - repeate filtering and subsampling of an image\n",
    "#2. Laplacian pyramid - "
   ]
  },
  {
   "cell_type": "code",
   "execution_count": 1,
   "id": "bf0aeb89",
   "metadata": {},
   "outputs": [],
   "source": [
    "import cv2"
   ]
  },
  {
   "cell_type": "code",
   "execution_count": 11,
   "id": "10494833",
   "metadata": {},
   "outputs": [],
   "source": [
    "img = cv2.imread('./data/lena.jpg')\n",
    "\n",
    "#gaussian\n",
    "lowres = cv2.pyrDown(img)  \n",
    "lowres2 = cv2.pyrDown(lowres)  \n",
    "\n",
    "highres = cv2.pyrUp(img)  \n",
    "highres2 = cv2.pyrUp(lowres2)  #pyrup on a pyrdown makes a blurry image\n",
    "\n",
    "\n",
    "cv2.imshow('original image', img)\n",
    "cv2.imshow('pyrdown', lowres)\n",
    "cv2.imshow('pyrdown2', lowres2)\n",
    "cv2.imshow('pyrup', highres)\n",
    "cv2.imshow('pyrup2', highres2)\n",
    "cv2.waitKey(0)\n",
    "cv2.destroyAllWindows()"
   ]
  },
  {
   "cell_type": "code",
   "execution_count": 16,
   "id": "faf08e4b",
   "metadata": {},
   "outputs": [],
   "source": [
    "#showing multiple layers of gaussian pyramid pyrDown\n",
    "layer = cv2.imread('./data/lena.jpg',1)\n",
    "gp = [layer]\n",
    "\n",
    "\n",
    "for i in range(6):  #reduce resolution 5 times\n",
    "    cv2.imshow(str(i), layer)\n",
    "    layer = cv2.pyrDown(layer)\n",
    "    gp.append(layer)\n",
    "    \n",
    "\n",
    "\n",
    "cv2.waitKey(0)\n",
    "cv2.destroyAllWindows()"
   ]
  },
  {
   "cell_type": "code",
   "execution_count": 25,
   "id": "e568c778",
   "metadata": {},
   "outputs": [],
   "source": [
    "#laplacian pyramids\n",
    "#a level in laplacian pyramid is formed by the difference between that level in gaussian pyramid and \n",
    "#expanded version of its upper level gaussian pyramid\n",
    "#laplacian pyramid is formed by the difference between that level in the gaussian pyramid\n",
    "#and expanded version of its upper level gaussian pyramid\n",
    "\n",
    "import cv2\n",
    "img = cv2.imread('./data/lena.jpg')\n",
    "layer = img.copy()\n",
    "\n",
    "gp = [layer]\n",
    "\n",
    "for i in range(6):\n",
    "    layer = cv2.pyrDown(layer)\n",
    "    gp.append(layer)\n",
    "    \n",
    "\n",
    "last_image = gp[5]\n",
    "lp = [layer]\n",
    "\n",
    "for i in range(5,0,-1):\n",
    "    gaussian_extended = cv2.pyrUp(gp[i])\n",
    "    laplacian = cv2.subtract(gp[i-1], gaussian_extended)\n",
    "    cv2.imshow(str(i), laplacian)\n",
    "    \n",
    "\n",
    "cv2.imshow('original', img)\n",
    "cv2.waitKey(0)\n",
    "cv2.destroyAllWindows()\n"
   ]
  },
  {
   "cell_type": "code",
   "execution_count": null,
   "id": "fde79059",
   "metadata": {},
   "outputs": [],
   "source": []
  }
 ],
 "metadata": {
  "kernelspec": {
   "display_name": "Python 3",
   "language": "python",
   "name": "python3"
  },
  "language_info": {
   "codemirror_mode": {
    "name": "ipython",
    "version": 3
   },
   "file_extension": ".py",
   "mimetype": "text/x-python",
   "name": "python",
   "nbconvert_exporter": "python",
   "pygments_lexer": "ipython3",
   "version": "3.8.0"
  }
 },
 "nbformat": 4,
 "nbformat_minor": 5
}
