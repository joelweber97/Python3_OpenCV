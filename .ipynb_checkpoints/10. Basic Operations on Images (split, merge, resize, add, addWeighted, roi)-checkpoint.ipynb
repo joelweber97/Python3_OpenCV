{
 "cells": [
  {
   "cell_type": "markdown",
   "id": "122044b3",
   "metadata": {},
   "source": [
    "### Basic Operations in Images"
   ]
  },
  {
   "cell_type": "code",
   "execution_count": 1,
   "id": "c6b941b4",
   "metadata": {},
   "outputs": [],
   "source": [
    "import cv2\n",
    "img = cv2.imread('./data/messi5.jpg', 1)"
   ]
  },
  {
   "cell_type": "code",
   "execution_count": 2,
   "id": "5029394f",
   "metadata": {},
   "outputs": [
    {
     "name": "stdout",
     "output_type": "stream",
     "text": [
      "(342, 548, 3)\n",
      "562248\n",
      "uint8\n"
     ]
    }
   ],
   "source": [
    "print(img.shape) #tuple of the (rows, columns, and channels)\n",
    "print(img.size) #total number of pixels\n",
    "print(img.dtype) #image datatype of the pixels"
   ]
  },
  {
   "cell_type": "code",
   "execution_count": 3,
   "id": "fd673119",
   "metadata": {},
   "outputs": [
    {
     "name": "stdout",
     "output_type": "stream",
     "text": [
      "[[39 42 44 ... 57 55 52]\n",
      " [37 42 46 ... 62 60 57]\n",
      " [41 46 51 ... 64 63 60]\n",
      " ...\n",
      " [56 48 49 ... 60 63 73]\n",
      " [54 59 50 ... 56 69 64]\n",
      " [45 58 71 ... 49 52 51]] [[ 43  46  47 ...  55  53  50]\n",
      " [ 40  45  49 ...  60  58  55]\n",
      " [ 45  50  55 ...  63  62  59]\n",
      " ...\n",
      " [143 133 129 ... 134 134 145]\n",
      " [138 141 130 ... 132 142 137]\n",
      " [129 140 151 ... 124 125 124]] [[ 44  47  52 ...  55  53  50]\n",
      " [ 44  49  54 ...  60  58  55]\n",
      " [ 50  55  60 ...  65  64  61]\n",
      " ...\n",
      " [ 99  89  86 ...  92  94 103]\n",
      " [ 96  99  87 ...  91 104  97]\n",
      " [ 87  98 108 ...  86  87  86]]\n"
     ]
    }
   ],
   "source": [
    "b,g,r = cv2.split(img)\n",
    "print(b,g,r)"
   ]
  },
  {
   "cell_type": "code",
   "execution_count": 4,
   "id": "af65c415",
   "metadata": {},
   "outputs": [],
   "source": [
    "img = cv2.merge((b,g,r))\n",
    "cv2.imshow('image', img)\n",
    "cv2.waitKey(0)\n",
    "cv2.destroyAllWindows()"
   ]
  },
  {
   "cell_type": "code",
   "execution_count": 5,
   "id": "866afe85",
   "metadata": {},
   "outputs": [],
   "source": [
    "#copy the ball from the image and place it else on the image\n",
    "ball = img[280:340,330:390] #extracts the ball\n",
    "img[273:333, 100:160] = ball #sets the img coordinates to the pixel values of the ball variable\n",
    "\n",
    "cv2.imshow('image', img)\n",
    "cv2.waitKey(0)\n",
    "cv2.destroyAllWindows()"
   ]
  },
  {
   "cell_type": "code",
   "execution_count": 11,
   "id": "ed84e973",
   "metadata": {},
   "outputs": [],
   "source": [
    "#merge two images together\n",
    "img = cv2.imread('./data/messi5.jpg',1)\n",
    "img = cv2.resize(img, (512,512))\n",
    "img2 = cv2.imread('./data/opencv-logo.png',1)\n",
    "img2 = cv2.resize(img2, (512,512))\n",
    "#both images need to have the same size so we use cv2.resize() method\n",
    "dst = cv2.add(img, img2)\n",
    "\n",
    "cv2.imshow('dst', dst)\n",
    "cv2.waitKey(0)\n",
    "cv2.destroyAllWindows()"
   ]
  },
  {
   "cell_type": "code",
   "execution_count": 22,
   "id": "ab247861",
   "metadata": {},
   "outputs": [],
   "source": [
    "#add weighted images\n",
    "img\n",
    "img2\n",
    "dst = cv2.addWeighted(img, .75, img2, .25, 0)\n",
    "cv2.imshow('dst', dst)\n",
    "cv2.waitKey(0)\n",
    "cv2.destroyAllWindows()"
   ]
  },
  {
   "cell_type": "code",
   "execution_count": null,
   "id": "31a4dc32",
   "metadata": {},
   "outputs": [],
   "source": []
  }
 ],
 "metadata": {
  "kernelspec": {
   "display_name": "Python 3",
   "language": "python",
   "name": "python3"
  },
  "language_info": {
   "codemirror_mode": {
    "name": "ipython",
    "version": 3
   },
   "file_extension": ".py",
   "mimetype": "text/x-python",
   "name": "python",
   "nbconvert_exporter": "python",
   "pygments_lexer": "ipython3",
   "version": "3.8.0"
  }
 },
 "nbformat": 4,
 "nbformat_minor": 5
}
