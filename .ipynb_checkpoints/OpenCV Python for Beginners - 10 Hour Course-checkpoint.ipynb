{
 "cells": [
  {
   "cell_type": "code",
   "execution_count": 1,
   "metadata": {},
   "outputs": [],
   "source": [
    "import cv2\n",
    "import numpy as np"
   ]
  },
  {
   "cell_type": "markdown",
   "metadata": {},
   "source": [
    "### reading and saving images"
   ]
  },
  {
   "cell_type": "code",
   "execution_count": 4,
   "metadata": {},
   "outputs": [],
   "source": [
    "img = cv2.imread('./data/lena.jpg', -1)\n",
    "cv2.imshow('img',img)\n",
    "k = cv2.waitKey(0) & 0xFF\n",
    "#if the escape key is hit it will close the window\n",
    "#if the s key is hit it will save the image\n",
    "if k == 27:\n",
    "    cv2.destroyAllWindows()\n",
    "elif k == ord('s'):\n",
    "    cv2.imwrite('./data/lena_copy.png', img)\n",
    "    cv2.destroyAllWindows()"
   ]
  },
  {
   "cell_type": "code",
   "execution_count": null,
   "metadata": {},
   "outputs": [],
   "source": []
  },
  {
   "cell_type": "markdown",
   "metadata": {},
   "source": [
    "### reading video live stream"
   ]
  },
  {
   "cell_type": "code",
   "execution_count": 7,
   "metadata": {},
   "outputs": [],
   "source": [
    "cap = cv2.VideoCapture(0)\n",
    "while True:\n",
    "    ret, frame = cap.read()\n",
    "    cv2.imshow('frame', frame)\n",
    "    if cv2.waitKey(1) & 0xFF == ord('q'):\n",
    "        break\n",
    "\n",
    "cap.release()\n",
    "cv2.destroyAllWindows()"
   ]
  },
  {
   "cell_type": "code",
   "execution_count": null,
   "metadata": {},
   "outputs": [],
   "source": []
  },
  {
   "cell_type": "markdown",
   "metadata": {},
   "source": [
    "### reading in webcam and converting it to gray"
   ]
  },
  {
   "cell_type": "code",
   "execution_count": 13,
   "metadata": {},
   "outputs": [
    {
     "name": "stdout",
     "output_type": "stream",
     "text": [
      "640.0\n",
      "480.0\n"
     ]
    }
   ],
   "source": [
    "cap = cv2.VideoCapture(0)\n",
    "print(cap.get(cv2.CAP_PROP_FRAME_WIDTH))\n",
    "print(cap.get(cv2.CAP_PROP_FRAME_HEIGHT))\n",
    "while cap.isOpened():\n",
    "    ret, frame = cap.read()\n",
    "    gray = cv2.cvtColor(frame, cv2.COLOR_BGR2GRAY)\n",
    "    cv2.imshow('gray', gray)\n",
    "    if cv2.waitKey(1) & 0xFF == ord('q'):\n",
    "        break\n",
    "\n",
    "cap.release()\n",
    "cv2.destroyAllWindows()"
   ]
  },
  {
   "cell_type": "code",
   "execution_count": null,
   "metadata": {},
   "outputs": [],
   "source": []
  },
  {
   "cell_type": "markdown",
   "metadata": {},
   "source": [
    "### writing a video"
   ]
  },
  {
   "cell_type": "code",
   "execution_count": 16,
   "metadata": {},
   "outputs": [],
   "source": [
    "cap = cv2.VideoCapture(0)\n",
    "fourcc = cv2.VideoWriter_fourcc(*'XVID')\n",
    "out = cv2.VideoWriter('./data/output.avi', fourcc, 20.0, (640,480))\n",
    "while cap.isOpened():\n",
    "    ret, frame = cap.read()\n",
    "    if ret == True:\n",
    "        out.write(frame)\n",
    "        gray = cv2.cvtColor(frame, cv2.COLOR_BGR2GRAY)\n",
    "        cv2.imshow('gray', gray)\n",
    "        if cv2.waitKey(1) & 0xFF == ord('q'):\n",
    "            break\n",
    "    else:\n",
    "        break\n",
    "\n",
    "cap.release()\n",
    "out.release()\n",
    "cv2.destroyAllWindows()"
   ]
  },
  {
   "cell_type": "code",
   "execution_count": null,
   "metadata": {},
   "outputs": [],
   "source": []
  },
  {
   "cell_type": "markdown",
   "metadata": {},
   "source": [
    "### Drawing Geometric Shapes on Images"
   ]
  },
  {
   "cell_type": "code",
   "execution_count": 2,
   "metadata": {},
   "outputs": [],
   "source": [
    "img = cv2.imread('./data/lena.jpg', 1)\n",
    "#cv2.imshow('image', img)\n",
    "#cv2.waitKey(0)\n",
    "#cv2.destroyAllWindows()"
   ]
  },
  {
   "cell_type": "code",
   "execution_count": 3,
   "metadata": {},
   "outputs": [
    {
     "data": {
      "text/plain": [
       "(512, 512, 3)"
      ]
     },
     "execution_count": 3,
     "metadata": {},
     "output_type": "execute_result"
    }
   ],
   "source": [
    "img.shape"
   ]
  },
  {
   "cell_type": "code",
   "execution_count": 4,
   "metadata": {},
   "outputs": [],
   "source": [
    "#draw a line\n",
    "#cv2.line(image, (starting point tuple), (ending poing tuple), (bgr tuple), thickness)\n",
    "img = cv2.line(img, (0,0), (512,255), (147,96,44), 5)\n",
    "\n",
    "#draw arrowed line\n",
    "img = cv2.arrowedLine(img, (30,500), (75,50), (0,255,0), 2)\n",
    "\n",
    "#draw a rectangle\n",
    "#cv2.rectangle(img, (pt1 tuple), (pt2 tuple), (bgr color tuple), thickness)\n",
    "img = cv2.rectangle(img, (80, 10), (150, 300), (255,0,0), 6) \n",
    "#(points 80 over 10 down to 100 over 300 down)\n",
    "#-1 thickness will fill the rectangle with the color\n",
    "img = cv2.rectangle(img, (80, 10), (150, 300), (0,0,0), -1) \n",
    "\n",
    "#draw a circle\n",
    "#img = cv2.circle(img, (center as tuple), radius, (color bgr tuple), thickness)\n",
    "img = cv2.circle(img, (255,255), 100, (0,0,128), 2)\n",
    "\n",
    "#adding text to image\n",
    "font = cv2.FONT_HERSHEY_SIMPLEX\n",
    "#img = cv2.putText(img, string text, (start point of text), fontface, \n",
    "#fontscale, color, thickness, linetype)\n",
    "img = cv2.putText(img, 'opencv', (10,500), font, 4, (128,128,128), 3, cv2.LINE_AA)\n",
    "\n",
    "\n",
    "cv2.imshow('image',img)\n",
    "cv2.waitKey(0)\n",
    "cv2.destroyAllWindows()\n",
    "#other things you draw are eclipse, polyline,polygon, etc "
   ]
  },
  {
   "cell_type": "code",
   "execution_count": null,
   "metadata": {},
   "outputs": [],
   "source": []
  },
  {
   "cell_type": "markdown",
   "metadata": {},
   "source": [
    "### Create an image using numpy zeros"
   ]
  },
  {
   "cell_type": "code",
   "execution_count": 5,
   "metadata": {},
   "outputs": [],
   "source": [
    "#really just creating a np array of zeros with the defined shape\n",
    "#np.zeros([shape as a list], dtype)\n",
    "img = np.zeros([512, 512, 3], np.uint8)\n",
    "img = cv2.putText(img, 'opencv', (10,500), font, 4, (128,128,128), 3, cv2.LINE_AA)\n",
    "cv2.imshow('image', img)\n",
    "cv2.waitKey(0)\n",
    "cv2.destroyAllWindows()"
   ]
  },
  {
   "cell_type": "code",
   "execution_count": null,
   "metadata": {},
   "outputs": [],
   "source": []
  },
  {
   "cell_type": "markdown",
   "metadata": {},
   "source": [
    "### Add text to videos and change resolution of video output"
   ]
  },
  {
   "cell_type": "code",
   "execution_count": 13,
   "metadata": {},
   "outputs": [
    {
     "name": "stdout",
     "output_type": "stream",
     "text": [
      "640.0\n",
      "480.0\n",
      "1280.0\n",
      "720.0\n"
     ]
    }
   ],
   "source": [
    "cap = cv2.VideoCapture(0)\n",
    "print(cap.get(cv2.CAP_PROP_FRAME_WIDTH))\n",
    "print(cap.get(cv2.CAP_PROP_FRAME_HEIGHT))\n",
    "\n",
    "#able to set the cap properties (there are a lot of properties)\n",
    "#property number 3 is width and 4 is height\n",
    "cap.set(3, 1280)\n",
    "cap.set(4, 720)\n",
    "print(cap.get(3))\n",
    "print(cap.get(4))\n",
    "\n",
    "height = int(cap.get(4))\n",
    "width = int(cap.get(3))\n",
    "text = f'Width: {width}, Height: {height}'\n",
    "font = cv2.FONT_HERSHEY_SIMPLEX\n",
    "\n",
    "while cap.isOpened():\n",
    "    ret,frame = cap.read()\n",
    "    if ret == True:\n",
    "        frame = cv2.putText(frame, text, (10,50), font, 1, (0,255,255), 1, cv2.LINE_AA)\n",
    "        cv2.imshow('frame', frame)\n",
    "        if cv2.waitKey(1) & 0xFF == ord('q'):\n",
    "            break\n",
    "    else:\n",
    "        break\n",
    "        \n",
    "cap.release()\n",
    "cv2.destroyAllWindows()"
   ]
  },
  {
   "cell_type": "markdown",
   "metadata": {},
   "source": [
    "### Print Date and Time on Video "
   ]
  },
  {
   "cell_type": "code",
   "execution_count": 15,
   "metadata": {},
   "outputs": [],
   "source": [
    "\n",
    "import datetime\n",
    "\n",
    "cap = cv2.VideoCapture(0)\n",
    "\n",
    "while cap.isOpened():\n",
    "    ret,frame = cap.read()\n",
    "    if ret == True:\n",
    "        font = cv2.FONT_HERSHEY_SIMPLEX\n",
    "        #getting the time\n",
    "        datet = str(datetime.datetime.now())\n",
    "        #plugging to the time onto the frame\n",
    "        frame = cv2.putText(frame, datet, (10,50), font, 1, (0,0,255), 1, cv2.LINE_AA)\n",
    "        cv2.imshow('frame', frame)\n",
    "        if cv2.waitKey(1) & 0xFF == ord('q'):\n",
    "            break\n",
    "    else:\n",
    "        break\n",
    "        \n",
    "cap.release()\n",
    "cv2.destroyAllWindows()"
   ]
  },
  {
   "cell_type": "markdown",
   "metadata": {},
   "source": [
    "### Mouse Events in opencv"
   ]
  },
  {
   "cell_type": "code",
   "execution_count": 16,
   "metadata": {},
   "outputs": [],
   "source": [
    "import numpy as np\n",
    "import cv2"
   ]
  },
  {
   "cell_type": "code",
   "execution_count": 17,
   "metadata": {},
   "outputs": [
    {
     "name": "stdout",
     "output_type": "stream",
     "text": [
      "['EVENT_FLAG_ALTKEY', 'EVENT_FLAG_CTRLKEY', 'EVENT_FLAG_LBUTTON', 'EVENT_FLAG_MBUTTON', 'EVENT_FLAG_RBUTTON', 'EVENT_FLAG_SHIFTKEY', 'EVENT_LBUTTONDBLCLK', 'EVENT_LBUTTONDOWN', 'EVENT_LBUTTONUP', 'EVENT_MBUTTONDBLCLK', 'EVENT_MBUTTONDOWN', 'EVENT_MBUTTONUP', 'EVENT_MOUSEHWHEEL', 'EVENT_MOUSEMOVE', 'EVENT_MOUSEWHEEL', 'EVENT_RBUTTONDBLCLK', 'EVENT_RBUTTONDOWN', 'EVENT_RBUTTONUP']\n"
     ]
    }
   ],
   "source": [
    "#here is a list of all mouse events available in cv2\n",
    "events = [i for i in dir(cv2) if 'EVENT' in i]\n",
    "print(events)"
   ]
  },
  {
   "cell_type": "code",
   "execution_count": 9,
   "metadata": {},
   "outputs": [],
   "source": [
    "#the goal of this code is the print the coordinates on the image when a left mouse click \n",
    "#and to print the BGR values onto the image when a right mouse click\n",
    "def click_event(event, x, y, flags, param):\n",
    "    if event == cv2.EVENT_LBUTTONDOWN:\n",
    "        print(x, y)\n",
    "        font = cv2.FONT_HERSHEY_SIMPLEX\n",
    "        strXY = f'{x}, {y}'\n",
    "        cv2.putText(img, strXY, (x, y), font, .5, (255,0,255), 1)\n",
    "        cv2.imshow('image', img)\n",
    "    if event == cv2.EVENT_RBUTTONDOWN:\n",
    "        font = cv2.FONT_HERSHEY_SIMPLEX\n",
    "        #not quite sure why img[y,x,band] instead of img[x,y,band]?\n",
    "        #down comes first, then over second, then the band!\n",
    "        #row first then column so y first then x\n",
    "        blue = img[y,x,0]\n",
    "        green = img[y,x,1]\n",
    "        red = img[y,x,2]\n",
    "        print(x,y)\n",
    "        strBGR = f'{blue}, {green}, {red}'\n",
    "        print(strBGR)\n",
    "        cv2.putText(img, strBGR, (x, y), font, .5, (255,255,255), 1)\n",
    "        cv2.imshow('image', img)"
   ]
  },
  {
   "cell_type": "code",
   "execution_count": 10,
   "metadata": {},
   "outputs": [
    {
     "name": "stdout",
     "output_type": "stream",
     "text": [
      "9 20\n",
      "75, 198, 62\n",
      "9 27\n",
      "21 57\n",
      "75, 198, 62\n",
      "21 57\n",
      "55 72\n"
     ]
    }
   ],
   "source": [
    "img = np.random.randint(0,255, size = [2,2,3],dtype = 'uint8')\n",
    "img = cv2.resize(img, (512,512))\n",
    "cv2.imshow('image',img)\n",
    "cv2.setMouseCallback('image', click_event)\n",
    "\n",
    "cv2.waitKey(0)\n",
    "cv2.destroyAllWindows()"
   ]
  },
  {
   "cell_type": "markdown",
   "metadata": {},
   "source": [
    "### Connecting Two Mouse Clicks with a Line"
   ]
  },
  {
   "cell_type": "code",
   "execution_count": 13,
   "metadata": {},
   "outputs": [
    {
     "name": "stdout",
     "output_type": "stream",
     "text": [
      "418 358\n",
      "181 431\n",
      "137 348\n",
      "231 339\n",
      "288 442\n",
      "418 358\n",
      "268 236\n",
      "231 340\n",
      "316 77\n"
     ]
    }
   ],
   "source": [
    "def click_event(event, x, y, flags, param):\n",
    "    if event == cv2.EVENT_LBUTTONDOWN:\n",
    "        cv2.circle(img, (x,y), 5, (128,128,255), -1)\n",
    "        points.append((x,y))\n",
    "        print(x,y)\n",
    "        if len(points) >= 2:\n",
    "            cv2.line(img, points[-2], points[-1], (50,255,255), 5)\n",
    "        cv2.imshow('image', img)\n",
    "\n",
    "        \n",
    "\n",
    "img = np.random.randint(0,255, size = [512,512,3],dtype = 'uint8')\n",
    "cv2.imshow('image',img)\n",
    "points = []\n",
    "cv2.setMouseCallback('image', click_event)\n",
    "\n",
    "cv2.waitKey(0)\n",
    "cv2.destroyAllWindows()"
   ]
  },
  {
   "cell_type": "markdown",
   "metadata": {},
   "source": [
    "### Showing the color of the point clicked on a second window"
   ]
  },
  {
   "cell_type": "code",
   "execution_count": 25,
   "metadata": {},
   "outputs": [],
   "source": [
    "import numpy as np\n",
    "import cv2\n",
    "\n",
    "def click_event(event, x, y, flags, param):\n",
    "    if event == cv2.EVENT_LBUTTONDOWN:\n",
    "        blue = img[y,x,0]\n",
    "        green = img[y,x,1]\n",
    "        red = img[y,x,2]\n",
    "        \n",
    "        cv2.circle(img, (x,y), 3, (100,100,100), -1)\n",
    "        mycolorImage = np.zeros((512,512,3), np.uint8)\n",
    "        \n",
    "        mycolorImage[:] = [blue, green, red]\n",
    "        cv2.imshow('colorwindow', mycolorImage)\n",
    "\n",
    "        \n",
    "\n",
    "img = np.random.randint(0,255, size = [2,2,3],dtype = 'uint8')\n",
    "img = cv2.resize(img, (512,512))\n",
    "cv2.imshow('image',img)\n",
    "points = []\n",
    "cv2.setMouseCallback('image', click_event)\n",
    "\n",
    "cv2.waitKey(0)\n",
    "cv2.destroyAllWindows()"
   ]
  },
  {
   "cell_type": "markdown",
   "metadata": {},
   "source": [
    "### Basic Operations in Images"
   ]
  },
  {
   "cell_type": "code",
   "execution_count": 1,
   "metadata": {},
   "outputs": [],
   "source": [
    "import cv2\n",
    "img = cv2.imread('./data/messi5.jpg', 1)"
   ]
  },
  {
   "cell_type": "code",
   "execution_count": 2,
   "metadata": {},
   "outputs": [
    {
     "name": "stdout",
     "output_type": "stream",
     "text": [
      "(342, 548, 3)\n",
      "562248\n",
      "uint8\n"
     ]
    }
   ],
   "source": [
    "print(img.shape) #tuple of the (rows, columns, and channels)\n",
    "print(img.size) #total number of pixels\n",
    "print(img.dtype) #image datatype of the pixels"
   ]
  },
  {
   "cell_type": "code",
   "execution_count": 3,
   "metadata": {},
   "outputs": [
    {
     "name": "stdout",
     "output_type": "stream",
     "text": [
      "[[39 42 44 ... 57 55 52]\n",
      " [37 42 46 ... 62 60 57]\n",
      " [41 46 51 ... 64 63 60]\n",
      " ...\n",
      " [56 48 49 ... 60 63 73]\n",
      " [54 59 50 ... 56 69 64]\n",
      " [45 58 71 ... 49 52 51]] [[ 43  46  47 ...  55  53  50]\n",
      " [ 40  45  49 ...  60  58  55]\n",
      " [ 45  50  55 ...  63  62  59]\n",
      " ...\n",
      " [143 133 129 ... 134 134 145]\n",
      " [138 141 130 ... 132 142 137]\n",
      " [129 140 151 ... 124 125 124]] [[ 44  47  52 ...  55  53  50]\n",
      " [ 44  49  54 ...  60  58  55]\n",
      " [ 50  55  60 ...  65  64  61]\n",
      " ...\n",
      " [ 99  89  86 ...  92  94 103]\n",
      " [ 96  99  87 ...  91 104  97]\n",
      " [ 87  98 108 ...  86  87  86]]\n"
     ]
    }
   ],
   "source": [
    "b,g,r = cv2.split(img)\n",
    "print(b,g,r)"
   ]
  },
  {
   "cell_type": "code",
   "execution_count": 4,
   "metadata": {},
   "outputs": [],
   "source": [
    "img = cv2.merge((b,g,r))\n",
    "cv2.imshow('image', img)\n",
    "cv2.waitKey(0)\n",
    "cv2.destroyAllWindows()"
   ]
  },
  {
   "cell_type": "code",
   "execution_count": 5,
   "metadata": {},
   "outputs": [],
   "source": [
    "#copy the ball from the image and place it else on the image\n",
    "ball = img[280:340,330:390] #extracts the ball\n",
    "img[273:333, 100:160] = ball #sets the img coordinates to the pixel values of the ball variable\n",
    "\n",
    "cv2.imshow('image', img)\n",
    "cv2.waitKey(0)\n",
    "cv2.destroyAllWindows()"
   ]
  },
  {
   "cell_type": "code",
   "execution_count": 11,
   "metadata": {},
   "outputs": [],
   "source": [
    "#merge two images together\n",
    "img = cv2.imread('./data/messi5.jpg',1)\n",
    "img = cv2.resize(img, (512,512))\n",
    "img2 = cv2.imread('./data/opencv-logo.png',1)\n",
    "img2 = cv2.resize(img2, (512,512))\n",
    "#both images need to have the same size so we use cv2.resize() method\n",
    "dst = cv2.add(img, img2)\n",
    "\n",
    "cv2.imshow('dst', dst)\n",
    "cv2.waitKey(0)\n",
    "cv2.destroyAllWindows()"
   ]
  },
  {
   "cell_type": "code",
   "execution_count": 22,
   "metadata": {},
   "outputs": [],
   "source": [
    "#add weighted images\n",
    "img\n",
    "img2\n",
    "dst = cv2.addWeighted(img, .75, img2, .25, 0)\n",
    "cv2.imshow('dst', dst)\n",
    "cv2.waitKey(0)\n",
    "cv2.destroyAllWindows()"
   ]
  },
  {
   "cell_type": "markdown",
   "metadata": {},
   "source": [
    "### Bitwise Operators"
   ]
  },
  {
   "cell_type": "code",
   "execution_count": 35,
   "metadata": {},
   "outputs": [],
   "source": [
    "#bitwise operators work well when working with masks"
   ]
  },
  {
   "cell_type": "code",
   "execution_count": 1,
   "metadata": {},
   "outputs": [],
   "source": [
    "import cv2\n",
    "import numpy as np"
   ]
  },
  {
   "cell_type": "code",
   "execution_count": 2,
   "metadata": {},
   "outputs": [],
   "source": [
    "img1 = np.zeros((250,500,3), np.uint8) #create a black image\n",
    "img1 = cv2.rectangle(img1, (200,0), (300,100), (255,255,255), -1) #adds a white rectangle to the black image\n",
    "img2 = cv2.imread('./data/image_1.png', 1)"
   ]
  },
  {
   "cell_type": "code",
   "execution_count": 46,
   "metadata": {},
   "outputs": [],
   "source": [
    "cv2.imshow('img1', img1)\n",
    "cv2.imshow('img2', img2)\n",
    "cv2.waitKey(0)\n",
    "cv2.destroyAllWindows()"
   ]
  },
  {
   "cell_type": "code",
   "execution_count": 47,
   "metadata": {},
   "outputs": [],
   "source": [
    "#The Logic AND\n",
    "#B A Q\n",
    "#0 0 0\n",
    "#0 1 0\n",
    "#1 0 0\n",
    "#1 1 1\n",
    "#areas that are white in both images and be white in the new image\n",
    "bitAnd = cv2.bitwise_and(img2, img1)\n",
    "cv2.imshow('bitAnd', bitAnd)\n",
    "cv2.waitKey(0)\n",
    "cv2.destroyAllWindows()"
   ]
  },
  {
   "cell_type": "code",
   "execution_count": 48,
   "metadata": {},
   "outputs": [],
   "source": [
    "#The Logic OR\n",
    "#B A Q\n",
    "#0 0 0\n",
    "#0 1 1\n",
    "#1 0 1\n",
    "#1 1 1\n",
    "#Any area that is white will give white in the new image\n",
    "bitOr = cv2.bitwise_or(img2, img1)\n",
    "cv2.imshow('bitor', bitOr)\n",
    "cv2.waitKey(0)\n",
    "cv2.destroyAllWindows()"
   ]
  },
  {
   "cell_type": "code",
   "execution_count": 53,
   "metadata": {},
   "outputs": [],
   "source": [
    "#The Logic XOR\n",
    "#B A Q\n",
    "#0 0 0\n",
    "#0 1 1\n",
    "#1 0 1\n",
    "#1 1 0\n",
    "#A OR B but NOT BOTH gives Q\n",
    "bitXOr = cv2.bitwise_xor(img2, img1)\n",
    "cv2.imshow('bitxor', bitXOr)\n",
    "cv2.waitKey(0)\n",
    "cv2.destroyAllWindows()"
   ]
  },
  {
   "cell_type": "code",
   "execution_count": 3,
   "metadata": {},
   "outputs": [],
   "source": [
    "#The Logic NOT\n",
    "#returns the oposite of the input\n",
    "bitNot1 = cv2.bitwise_not(img1)\n",
    "bitNot2 = cv2.bitwise_not(img2)\n",
    "cv2.imshow('bitnot1', bitNot1)\n",
    "cv2.imshow('bitnot2', bitNot2)\n",
    "cv2.waitKey(0)\n",
    "cv2.destroyAllWindows()"
   ]
  },
  {
   "cell_type": "markdown",
   "metadata": {},
   "source": [
    "### Trackbars"
   ]
  },
  {
   "cell_type": "code",
   "execution_count": 4,
   "metadata": {},
   "outputs": [],
   "source": [
    "#usefull when you want to change a value in your image dynamically at runtime"
   ]
  },
  {
   "cell_type": "code",
   "execution_count": 2,
   "metadata": {},
   "outputs": [],
   "source": [
    "import cv2\n",
    "import numpy as np"
   ]
  },
  {
   "cell_type": "code",
   "execution_count": 7,
   "metadata": {
    "collapsed": true
   },
   "outputs": [
    {
     "name": "stdout",
     "output_type": "stream",
     "text": [
      "1\n",
      "2\n",
      "3\n",
      "4\n",
      "5\n",
      "8\n",
      "10\n",
      "15\n",
      "19\n",
      "28\n",
      "34\n",
      "42\n",
      "60\n",
      "68\n",
      "78\n",
      "92\n",
      "101\n",
      "109\n",
      "116\n",
      "120\n",
      "123\n",
      "131\n",
      "134\n",
      "136\n",
      "137\n",
      "139\n",
      "141\n",
      "143\n",
      "151\n",
      "154\n",
      "159\n",
      "160\n",
      "1\n"
     ]
    }
   ],
   "source": [
    "def nothing(x):\n",
    "    print(x)\n",
    "\n",
    "img = np.zeros((300,512, 3), np.uint8)\n",
    "cv2.namedWindow('image')\n",
    "\n",
    "#creates the trackbars that allow us to change the values of B,G,R\n",
    "cv2.createTrackbar('B', 'image', 0, 255, nothing)\n",
    "cv2.createTrackbar('G', 'image', 0, 255, nothing)\n",
    "cv2.createTrackbar('R', 'image', 0, 255, nothing)\n",
    "\n",
    "switch = '0 : OFF\\n 1: ON'\n",
    "cv2.createTrackbar(switch, 'image', 0,1, nothing)\n",
    "\n",
    "while(1):\n",
    "    cv2.imshow('image', img)\n",
    "    k = cv2.waitKey(1) & 0xFF\n",
    "    if k == 27:\n",
    "        break\n",
    "    \n",
    "    #get the values of BGR from the trackbar\n",
    "    b = cv2.getTrackbarPos('B','image')\n",
    "    g = cv2.getTrackbarPos('G', 'image')\n",
    "    r = cv2.getTrackbarPos('R', 'image')\n",
    "    s = cv2.getTrackbarPos(switch, 'image')\n",
    "    \n",
    "    #if the switch is set to 0 it changes the image to all black\n",
    "    if s == 0:\n",
    "        img[:] = 0\n",
    "    else:\n",
    "        #set the values of BGR to the image. now the sliders will change the color on the image\n",
    "        img[:] = [b,g,r]\n",
    "    \n",
    "cv2.destroyAllWindows()"
   ]
  },
  {
   "cell_type": "code",
   "execution_count": 1,
   "metadata": {},
   "outputs": [],
   "source": [
    "import cv2\n",
    "import numpy as np"
   ]
  },
  {
   "cell_type": "code",
   "execution_count": 2,
   "metadata": {
    "collapsed": true
   },
   "outputs": [
    {
     "name": "stdout",
     "output_type": "stream",
     "text": [
      "101\n",
      "103\n",
      "105\n",
      "115\n",
      "119\n",
      "126\n",
      "141\n",
      "146\n",
      "154\n",
      "160\n",
      "169\n",
      "180\n",
      "183\n",
      "187\n",
      "193\n",
      "195\n",
      "196\n",
      "201\n",
      "202\n",
      "203\n",
      "204\n",
      "206\n",
      "207\n",
      "210\n",
      "211\n",
      "213\n",
      "216\n",
      "219\n",
      "221\n",
      "222\n",
      "223\n",
      "225\n",
      "228\n",
      "229\n",
      "231\n",
      "233\n",
      "235\n",
      "239\n",
      "240\n",
      "241\n",
      "242\n",
      "245\n",
      "246\n",
      "247\n",
      "248\n",
      "250\n",
      "251\n",
      "254\n",
      "255\n",
      "256\n",
      "257\n",
      "259\n",
      "260\n",
      "261\n",
      "1\n"
     ]
    }
   ],
   "source": [
    "#Another example of trackbars\n",
    "def nothing(x):\n",
    "    print(x)\n",
    "\n",
    "cv2.namedWindow('image')\n",
    "cv2.createTrackbar('CP', 'image', 100, 400, nothing)\n",
    "switch = 'Color/Gray'\n",
    "cv2.createTrackbar(switch, 'image', 0,1, nothing)\n",
    "\n",
    "while(1):\n",
    "    img = cv2.imread('./data/lena.jpg', 1)\n",
    "    pos = cv2.getTrackbarPos('CP', 'image')\n",
    "    font = cv2.FONT_HERSHEY_SIMPLEX\n",
    "    cv2.putText(img, str(pos), (50,150), font, 4, (0,0,255))\n",
    "    \n",
    "    k = cv2.waitKey(1) & 0xFF\n",
    "    if k == 27:\n",
    "        break\n",
    "        \n",
    "    s = cv2.getTrackbarPos(switch, 'image')\n",
    "    if s == 0:\n",
    "        pass\n",
    "    else:\n",
    "        img = cv2.cvtColor(img, cv2.COLOR_BGR2GRAY)\n",
    "    \n",
    "    img = cv2.imshow('image', img)\n",
    "cv2.destroyAllWindows()"
   ]
  },
  {
   "cell_type": "markdown",
   "metadata": {},
   "source": [
    "### Object Detection Using HSV Color Space in images"
   ]
  },
  {
   "cell_type": "code",
   "execution_count": 5,
   "metadata": {},
   "outputs": [],
   "source": [
    "#lets say we only want to detect a certain color of skittle from an image"
   ]
  },
  {
   "cell_type": "code",
   "execution_count": 2,
   "metadata": {},
   "outputs": [],
   "source": [
    "import cv2\n",
    "import numpy as np"
   ]
  },
  {
   "cell_type": "code",
   "execution_count": 3,
   "metadata": {},
   "outputs": [],
   "source": [
    "def nothing(x):\n",
    "    pass"
   ]
  },
  {
   "cell_type": "code",
   "execution_count": 4,
   "metadata": {},
   "outputs": [],
   "source": [
    "#create a new window that will have the trackbar to adjust lower and upper hsv values\n",
    "cv2.namedWindow('Tracking')\n",
    "cv2.createTrackbar('LH', 'Tracking', 0, 255, nothing)\n",
    "cv2.createTrackbar('LS', 'Tracking', 0, 255, nothing)\n",
    "cv2.createTrackbar('LV', 'Tracking', 0, 255, nothing)\n",
    "cv2.createTrackbar('UH', 'Tracking', 255, 255, nothing)\n",
    "cv2.createTrackbar('US', 'Tracking', 255, 255, nothing)\n",
    "cv2.createTrackbar('UV', 'Tracking', 255, 255, nothing)\n",
    "\n",
    "\n",
    "while True:\n",
    "    frame = cv2.imread('./data/smarties.png',1)\n",
    "    #convert image from bgr to hsv\n",
    "    hsv = cv2.cvtColor(frame, cv2.COLOR_BGR2HSV)\n",
    "    \n",
    "    l_h = cv2.getTrackbarPos('LH', 'Tracking')\n",
    "    l_s = cv2.getTrackbarPos('LS', 'Tracking')\n",
    "    l_v = cv2.getTrackbarPos('LV', 'Tracking')\n",
    "    u_h = cv2.getTrackbarPos('UH', 'Tracking')\n",
    "    u_s = cv2.getTrackbarPos('US', 'Tracking')\n",
    "    u_v = cv2.getTrackbarPos('UV', 'Tracking')\n",
    "    \n",
    "    #define threshold for blue color\n",
    "    lower_bound = np.array([l_h, l_s, l_v])\n",
    "    upper_bound = np.array([u_h, u_s, u_v])\n",
    "    #blue balls should set lower_bound = np.array([104, 47, 51]) and upper_bound = np.array([132,255,255])\n",
    "    #green balls should set lower_bound = np.array([62, 47,51]) and upper_bound = np.array([95,255,255])\n",
    "    #red balls should set lower_bound = np.array([0,26,113]) and upper_bound = np.array([58,255,255])\n",
    "    \n",
    "    \n",
    "    \n",
    "    #create a mask between lower and upper bounds\n",
    "    mask = cv2.inRange(hsv, lower_bound, upper_bound)\n",
    "    \n",
    "    #use bitwise_and to extract only the colors the vall between those pixel values\n",
    "    res = cv2.bitwise_and(frame, frame, mask=mask)\n",
    "    \n",
    "    \n",
    "    cv2.imshow('frame', frame)\n",
    "    cv2.imshow('mask', mask)\n",
    "    cv2.imshow('result', res)\n",
    "    \n",
    "    \n",
    "    key = cv2.waitKey(1)\n",
    "    if key == 27:\n",
    "        break\n",
    "\n",
    "        \n",
    "cv2.destroyAllWindows()"
   ]
  },
  {
   "cell_type": "markdown",
   "metadata": {},
   "source": [
    "### Object Tracking using HSV Color Space in Videos"
   ]
  },
  {
   "cell_type": "code",
   "execution_count": null,
   "metadata": {},
   "outputs": [],
   "source": [
    "import cv2\n",
    "import numpy as np"
   ]
  },
  {
   "cell_type": "code",
   "execution_count": null,
   "metadata": {},
   "outputs": [],
   "source": [
    "def nothing(x):\n",
    "    pass"
   ]
  },
  {
   "cell_type": "code",
   "execution_count": 5,
   "metadata": {},
   "outputs": [],
   "source": [
    "\n",
    "cap = cv2.VideoCapture(0)\n",
    "\n",
    "\n",
    "#create a new window that will have the trackbar to adjust lower and upper hsv values\n",
    "cv2.namedWindow('Tracking')\n",
    "cv2.createTrackbar('LH', 'Tracking', 0, 255, nothing)\n",
    "cv2.createTrackbar('LS', 'Tracking', 0, 255, nothing)\n",
    "cv2.createTrackbar('LV', 'Tracking', 0, 255, nothing)\n",
    "cv2.createTrackbar('UH', 'Tracking', 255, 255, nothing)\n",
    "cv2.createTrackbar('US', 'Tracking', 255, 255, nothing)\n",
    "cv2.createTrackbar('UV', 'Tracking', 255, 255, nothing)\n",
    "\n",
    "\n",
    "while True:\n",
    "    _, frame = cap.read()\n",
    "    \n",
    "    \n",
    "    #convert image from bgr to hsv\n",
    "    hsv = cv2.cvtColor(frame, cv2.COLOR_BGR2HSV)\n",
    "    \n",
    "    l_h = cv2.getTrackbarPos('LH', 'Tracking')\n",
    "    l_s = cv2.getTrackbarPos('LS', 'Tracking')\n",
    "    l_v = cv2.getTrackbarPos('LV', 'Tracking')\n",
    "    u_h = cv2.getTrackbarPos('UH', 'Tracking')\n",
    "    u_s = cv2.getTrackbarPos('US', 'Tracking')\n",
    "    u_v = cv2.getTrackbarPos('UV', 'Tracking')\n",
    "    \n",
    "    #define threshold for blue color\n",
    "    lower_bound = np.array([l_h, l_s, l_v])\n",
    "    upper_bound = np.array([u_h, u_s, u_v])\n",
    "    #blue balls should set lower_bound = np.array([104, 47, 51]) and upper_bound = np.array([132,255,255])\n",
    "    #green balls should set lower_bound = np.array([62, 47,51]) and upper_bound = np.array([95,255,255])\n",
    "    #red balls should set lower_bound = np.array([0,26,113]) and upper_bound = np.array([58,255,255])\n",
    "    \n",
    "    \n",
    "    \n",
    "    #create a mask between lower and upper bounds\n",
    "    mask = cv2.inRange(hsv, lower_bound, upper_bound)\n",
    "    \n",
    "    #use bitwise_and to extract only the colors the vall between those pixel values\n",
    "    res = cv2.bitwise_and(frame, frame, mask=mask)\n",
    "    \n",
    "    \n",
    "    cv2.imshow('frame', frame)\n",
    "    cv2.imshow('mask', mask)\n",
    "    cv2.imshow('result', res)\n",
    "    \n",
    "    \n",
    "    key = cv2.waitKey(1)\n",
    "    if key == 27:\n",
    "        break\n",
    "\n",
    "cap.release()        \n",
    "cv2.destroyAllWindows()"
   ]
  },
  {
   "cell_type": "markdown",
   "metadata": {},
   "source": [
    "### Thresholding on Images"
   ]
  },
  {
   "cell_type": "code",
   "execution_count": 12,
   "metadata": {},
   "outputs": [],
   "source": [
    "#thresholding a popular segmenting technique to separate an object from its background\n",
    "#involves comparing each pixel of an image with a predefined threshold value\n",
    "#divides all the pixels of the input image into 2 groups\n",
    "#first group is the pixels with intensity value lower than the threshold\n",
    "#second group is the pixels with intensity value higher than the threshold"
   ]
  },
  {
   "cell_type": "code",
   "execution_count": 13,
   "metadata": {},
   "outputs": [],
   "source": [
    "import cv2\n",
    "import numpy as np"
   ]
  },
  {
   "cell_type": "code",
   "execution_count": 14,
   "metadata": {},
   "outputs": [],
   "source": [
    "img = cv2.imread('./data/gradient.png', 0)"
   ]
  },
  {
   "cell_type": "code",
   "execution_count": 32,
   "metadata": {},
   "outputs": [],
   "source": [
    "#binary threshold - values in original image with intensity > 127 get a value of 255 \n",
    "#while pixels with intensity value < 127 get a new value of 0\n",
    "_, thresh1 = cv2.threshold(img, 127, 255, cv2.THRESH_BINARY)\n",
    "#THRESH_BINARY_INV gives the inverse of the above. Sets high intensity values in original img to 0 \n",
    "#and low intensity values in img to 255\n",
    "_, thresh2 = cv2.threshold(img, 127, 255, cv2.THRESH_BINARY_INV)\n",
    "#Pixels below the threshold value will not be changed. Values above the threshold value will be\n",
    "#set to that threshold value (75 in this case).\n",
    "_, thresh3 = cv2.threshold(img, 75, 255, cv2.THRESH_TRUNC)\n",
    "#sets any pixel below the threshold value to 0 while keeping the pixels above the threshold\n",
    "#value at their original pixel values\n",
    "_, thresh4 = cv2.threshold(img, 75, 255, cv2.THRESH_TOZERO)\n",
    "#inverse of above. sets everything above the threshold to 0 while keeping the original \n",
    "#pixel values for everything below the threshold value\n",
    "_,thresh5 = cv2.threshold(img, 75, 255, cv2.THRESH_TOZERO_INV)\n",
    "\n",
    "cv2.imshow('image', img)\n",
    "cv2.imshow('Thresh1', thresh1)\n",
    "cv2.imshow('Thresh2', thresh2)\n",
    "cv2.imshow('Thresh3', thresh3)\n",
    "cv2.imshow('Thresh4', thresh4)\n",
    "cv2.imshow('Thresh5', thresh5)\n",
    "cv2.waitKey(0)\n",
    "cv2.destroyAllWindows()"
   ]
  },
  {
   "cell_type": "markdown",
   "metadata": {},
   "source": [
    "### Adaptive Thresholding"
   ]
  },
  {
   "cell_type": "code",
   "execution_count": 34,
   "metadata": {},
   "outputs": [],
   "source": [
    "#method where the threshold is calculated for a smaller region.\n",
    "#there will be different threshold values for different regions of an image\n",
    "\n",
    "#useful with different lighting conditions in different regions "
   ]
  },
  {
   "cell_type": "code",
   "execution_count": 33,
   "metadata": {},
   "outputs": [],
   "source": [
    "import cv2\n",
    "import numpy as np"
   ]
  },
  {
   "cell_type": "code",
   "execution_count": 35,
   "metadata": {},
   "outputs": [],
   "source": [
    "img = cv2.imread('./data/sudoku.png', 0)"
   ]
  },
  {
   "cell_type": "code",
   "execution_count": 50,
   "metadata": {},
   "outputs": [],
   "source": [
    "#standard thresholding that produces bad results\n",
    "_, thresh1 = cv2.threshold(img, 127, 255, cv2.THRESH_BINARY)\n",
    "\n",
    "#ADAPTIVE_THRESH_MEAN_C = mean of of the blocksize x blocksize neighborhoold of (x,y) minus c\n",
    "#produces much better results\n",
    "thresh2 = cv2.adaptiveThreshold(img, 255, cv2.ADAPTIVE_THRESH_MEAN_C, cv2.THRESH_BINARY, 11, 2)\n",
    "\n",
    "#ADAPTIVE_THRESH_GAUSSIAN_C = threshold value T(x, y) is a weighted sum of the blocksize x blocksize\n",
    "#neighborhood of (x,y) minus c\n",
    "#not much different from the one above. still way better than the first one\n",
    "thresh3 = cv2.adaptiveThreshold(img, 255, cv2.ADAPTIVE_THRESH_GAUSSIAN_C, cv2.THRESH_BINARY, 11, 2)"
   ]
  },
  {
   "cell_type": "code",
   "execution_count": 51,
   "metadata": {},
   "outputs": [],
   "source": [
    "cv2.imshow('img', img)\n",
    "cv2.imshow('Thresh1', thresh1)\n",
    "cv2.imshow('Thresh2', thresh2)\n",
    "cv2.imshow('Thresh3', thresh3)\n",
    "cv2.waitKey(0)\n",
    "cv2.destroyAllWindows()"
   ]
  },
  {
   "cell_type": "markdown",
   "metadata": {},
   "source": [
    "### Matplotlib and OpenCV"
   ]
  },
  {
   "cell_type": "code",
   "execution_count": 2,
   "metadata": {},
   "outputs": [],
   "source": [
    "import cv2\n",
    "import numpy as np\n",
    "import matplotlib.pyplot as plt\n",
    "%matplotlib inline"
   ]
  },
  {
   "cell_type": "code",
   "execution_count": 3,
   "metadata": {},
   "outputs": [
    {
     "data": {
      "image/png": "[encoded data removed]",
      "text/plain": [
       "<Figure size 432x288 with 1 Axes>"
      ]
     },
     "metadata": {},
     "output_type": "display_data"
    }
   ],
   "source": [
    "img = cv2.imread('./data/lena.jpg', -1)\n",
    "cv2.imshow('image', img)\n",
    "\n",
    "#plt returns an image in notebook using RGB color instead of BGR so the color of lena looks very blue\n",
    "#so we need to convert it to RGB using cv2.cvtColor(img, cv2.COLOR_BGR2RGB)\n",
    "img = cv2.cvtColor(img, cv2.COLOR_BGR2RGB)\n",
    "plt.imshow(img)\n",
    "#plt.xticks([]), plt.yticks([])\n",
    "plt.show()\n",
    "\n",
    "\n",
    "cv2.waitKey(0)\n",
    "cv2.destroyAllWindows()"
   ]
  },
  {
   "cell_type": "code",
   "execution_count": 4,
   "metadata": {},
   "outputs": [],
   "source": [
    "#lets show the 6 threshold plots from above on a single matplotlib plot"
   ]
  },
  {
   "cell_type": "code",
   "execution_count": 6,
   "metadata": {},
   "outputs": [
    {
     "data": {
      "image/png": "[encoded data removed]",
      "text/plain": [
       "<Figure size 432x288 with 6 Axes>"
      ]
     },
     "metadata": {},
     "output_type": "display_data"
    }
   ],
   "source": [
    "img = cv2.imread('./data/gradient.png', 0)\n",
    "\n",
    "_, thresh1 = cv2.threshold(img, 127, 255, cv2.THRESH_BINARY)\n",
    "_, thresh2 = cv2.threshold(img, 127, 255, cv2.THRESH_BINARY_INV)\n",
    "_, thresh3 = cv2.threshold(img, 75, 255, cv2.THRESH_TRUNC)\n",
    "_, thresh4 = cv2.threshold(img, 75, 255, cv2.THRESH_TOZERO)\n",
    "_,thresh5 = cv2.threshold(img, 75, 255, cv2.THRESH_TOZERO_INV)\n",
    "\n",
    "titles = ['Original', 'BINARY', \"BINARY_INV\", \"TRUNC\", \"TOZERO\", \"TOZERO_INV\"]\n",
    "images = [img, thresh1, thresh2, thresh3, thresh4, thresh5]\n",
    "for i in range(6):\n",
    "    plt.subplot(2, 3, i+1) #plt.subplots(number of rows, number of columns, index)\n",
    "    plt.imshow(images[i], 'gray')\n",
    "    plt.title(titles[i])\n",
    "    plt.xticks([])\n",
    "    plt.yticks([])\n",
    "\n",
    "\n",
    "plt.show()"
   ]
  },
  {
   "cell_type": "markdown",
   "metadata": {},
   "source": [
    "### Morphological Transformations in OpenCV"
   ]
  },
  {
   "cell_type": "code",
   "execution_count": 9,
   "metadata": {},
   "outputs": [],
   "source": [
    "#erosion, dilation, opening, and closing.\n",
    "#simple operations based on the image shape.\n",
    "#normally performed on binary images.\n",
    "#2 things are required: the original image and a kernel\n",
    "#a kernel tells you how to change the value of any given pixel by combining it with different amounts of neightboring pixels"
   ]
  },
  {
   "cell_type": "code",
   "execution_count": 10,
   "metadata": {},
   "outputs": [],
   "source": [
    "import cv2\n",
    "import matplotlib.pyplot as plt\n",
    "import numpy as np"
   ]
  },
  {
   "cell_type": "code",
   "execution_count": 43,
   "metadata": {},
   "outputs": [
    {
     "data": {
      "image/png": "[encoded data removed]",
      "text/plain": [
       "<Figure size 1152x1152 with 8 Axes>"
      ]
     },
     "metadata": {},
     "output_type": "display_data"
    }
   ],
   "source": [
    "img = cv2.imread('./data/smarties.png', cv2.IMREAD_GRAYSCALE)\n",
    "#since morphologic transformations are done on binary images we are going to create \n",
    "#a mask with simple binary threshold\n",
    "_, mask = cv2.threshold(img, 220,255, cv2.THRESH_BINARY_INV)\n",
    "#after the masking there a few black specks on the skittles that we want to remove.\n",
    "#we will use dilation transformation\n",
    "kernel = np.ones((2,2), np.uint8)\n",
    "dilation = cv2.dilate(mask, kernel, iterations = 4)\n",
    "#some of the black specks are removed but there still some that didn't get removed.\n",
    "#this gets fixed if we increase the number of iterations or increase the size of rectangle.\n",
    "\n",
    "kernel = np.ones((2,2), np.uint8)\n",
    "erosion = cv2.erode(mask, kernel, iterations = 4)\n",
    "#the sides of the balls have been eroded and the black specs from the mask\n",
    "#have actually increased in size.\n",
    "#it erodes away the boundary of the objects\n",
    "#if all the pixels under the kernel are 1, the central pixel will remain 1.\n",
    "#if any of hte pixels under the kernel are 0, the central pixel will change to 0.\n",
    "#hypothetically we could use dilation to fill in the specks of the balls and then erode the outside\n",
    "#of the balls to shrink them back to the same size as before the dilation\n",
    "\n",
    "kernel = np.ones((2,2), np.uint8)\n",
    "opening = cv2.morphologyEx(mask, cv2.MORPH_OPEN, kernel, iterations = 4)\n",
    "#a method of performing erosion followed by dilation of the image.\n",
    "\n",
    "kernel = np.ones((2,2), np.uint8)\n",
    "closing = cv2.morphologyEx(mask, cv2.MORPH_CLOSE, kernel, iterations = 4)\n",
    "#closing performs the dilation first to fill in the gaps and then erosion to shrink the\n",
    "#boundaries back to the size before dilation.\n",
    "#this performs the best results as the balls are filled in but have not expanded in size \n",
    "#like what was seen in just the dilation.\n",
    "kernel = np.ones((2,2), np.uint8)\n",
    "gradient = cv2.morphologyEx(mask, cv2.MORPH_GRADIENT, kernel, iterations = 1)\n",
    "#highlights pixels that have a sharp gradient to the next pixels\n",
    "#the difference between dilation and erosion of an image?\n",
    "tophat = cv2.morphologyEx(mask, cv2.MORPH_TOPHAT, kernel, iterations = 4)\n",
    "#highlights pixels that have a gradient on the top part of the gradient but not on the bottom\n",
    "#difference between an image and the opening of an image?\n",
    "\n",
    "titles = ['image', 'mask', 'dilation', 'erosion', 'opening', 'closing', 'gradient', 'tophat']\n",
    "images = [img, mask, dilation, erosion, opening, closing, gradient, tophat]\n",
    "\n",
    "plt.figure(figsize=(16, 16)) \n",
    "for i in range(len(images)):\n",
    "    plt.subplot(3,3, i+1)\n",
    "    plt.imshow(images[i], 'gray')\n",
    "    plt.title(titles[i])\n",
    "    plt.xticks([])\n",
    "    plt.yticks([])\n",
    "    \n",
    "\n",
    "plt.show()"
   ]
  },
  {
   "cell_type": "code",
   "execution_count": 44,
   "metadata": {},
   "outputs": [
    {
     "data": {
      "image/png": "[encoded data removed]",
      "text/plain": [
       "<Figure size 1152x1152 with 8 Axes>"
      ]
     },
     "metadata": {},
     "output_type": "display_data"
    }
   ],
   "source": [
    "img = cv2.imread('./data/j.png', cv2.IMREAD_GRAYSCALE)\n",
    "#since morphologic transformations are done on binary images we are going to create \n",
    "#a mask with simple binary threshold\n",
    "_, mask = cv2.threshold(img, 220,255, cv2.THRESH_BINARY_INV)\n",
    "#after the masking there a few black specks on the skittles that we want to remove.\n",
    "#we will use dilation transformation\n",
    "kernel = np.ones((2,2), np.uint8)\n",
    "dilation = cv2.dilate(mask, kernel, iterations = 4)\n",
    "#some of the black specks are removed but there still some that didn't get removed.\n",
    "#this gets fixed if we increase the number of iterations or increase the size of rectangle.\n",
    "\n",
    "kernel = np.ones((2,2), np.uint8)\n",
    "erosion = cv2.erode(mask, kernel, iterations = 4)\n",
    "#the sides of the balls have been eroded and the black specs from the mask\n",
    "#have actually increased in size.\n",
    "#it erodes away the boundary of the objects\n",
    "#if all the pixels under the kernel are 1, the central pixel will remain 1.\n",
    "#if any of hte pixels under the kernel are 0, the central pixel will change to 0.\n",
    "#hypothetically we could use dilation to fill in the specks of the balls and then erode the outside\n",
    "#of the balls to shrink them back to the same size as before the dilation\n",
    "\n",
    "kernel = np.ones((2,2), np.uint8)\n",
    "opening = cv2.morphologyEx(mask, cv2.MORPH_OPEN, kernel, iterations = 4)\n",
    "#a method of performing erosion followed by dilation of the image.\n",
    "\n",
    "kernel = np.ones((2,2), np.uint8)\n",
    "closing = cv2.morphologyEx(mask, cv2.MORPH_CLOSE, kernel, iterations = 4)\n",
    "#closing performs the dilation first to fill in the gaps and then erosion to shrink the\n",
    "#boundaries back to the size before dilation.\n",
    "#this performs the best results as the balls are filled in but have not expanded in size \n",
    "#like what was seen in just the dilation.\n",
    "kernel = np.ones((2,2), np.uint8)\n",
    "gradient = cv2.morphologyEx(mask, cv2.MORPH_GRADIENT, kernel, iterations = 1)\n",
    "#highlights pixels that have a sharp gradient to the next pixels\n",
    "#the difference between dilation and erosion of an image?\n",
    "tophat = cv2.morphologyEx(mask, cv2.MORPH_TOPHAT, kernel, iterations = 4)\n",
    "#highlights pixels that have a gradient on the top part of the gradient but not on the bottom\n",
    "#difference between an image and the opening of an image?\n",
    "\n",
    "titles = ['image', 'mask', 'dilation', 'erosion', 'opening', 'closing', 'gradient', 'tophat']\n",
    "images = [img, mask, dilation, erosion, opening, closing, gradient, tophat]\n",
    "\n",
    "plt.figure(figsize=(16, 16)) \n",
    "for i in range(len(images)):\n",
    "    plt.subplot(3,3, i+1)\n",
    "    plt.imshow(images[i], 'gray')\n",
    "    plt.title(titles[i])\n",
    "    plt.xticks([])\n",
    "    plt.yticks([])\n",
    "    \n",
    "\n",
    "plt.show()"
   ]
  },
  {
   "cell_type": "code",
   "execution_count": null,
   "metadata": {},
   "outputs": [],
   "source": []
  }
 ],
 "metadata": {
  "kernelspec": {
   "display_name": "Python 3",
   "language": "python",
   "name": "python3"
  },
  "language_info": {
   "codemirror_mode": {
    "name": "ipython",
    "version": 3
   },
   "file_extension": ".py",
   "mimetype": "text/x-python",
   "name": "python",
   "nbconvert_exporter": "python",
   "pygments_lexer": "ipython3",
   "version": "3.7.6"
  }
 },
 "nbformat": 4,
 "nbformat_minor": 5
}
