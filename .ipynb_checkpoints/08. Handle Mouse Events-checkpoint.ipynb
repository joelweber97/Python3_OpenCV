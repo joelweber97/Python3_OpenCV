{
 "cells": [
  {
   "cell_type": "markdown",
   "id": "48f68120",
   "metadata": {},
   "source": [
    "### Mouse Events in opencv"
   ]
  },
  {
   "cell_type": "code",
   "execution_count": null,
   "id": "5aab52de",
   "metadata": {},
   "outputs": [],
   "source": [
    "import numpy as np\n",
    "import cv2"
   ]
  },
  {
   "cell_type": "code",
   "execution_count": null,
   "id": "40542463",
   "metadata": {},
   "outputs": [],
   "source": [
    "#here is a list of all mouse events available in cv2\n",
    "events = [i for i in dir(cv2) if 'EVENT' in i]\n",
    "print(events)\n"
   ]
  },
  {
   "cell_type": "code",
   "execution_count": null,
   "id": "94436a20",
   "metadata": {},
   "outputs": [],
   "source": [
    "#the goal of this code is the print the coordinates on the image when a left mouse click \n",
    "#and to print the BGR values onto the image when a right mouse click\n",
    "def click_event(event, x, y, flags, param):\n",
    "    if event == cv2.EVENT_LBUTTONDOWN:\n",
    "        print(x, y)\n",
    "        font = cv2.FONT_HERSHEY_SIMPLEX\n",
    "        strXY = f'{x}, {y}'\n",
    "        cv2.putText(img, strXY, (x, y), font, .5, (255,0,255), 1)\n",
    "        cv2.imshow('image', img)\n",
    "    if event == cv2.EVENT_RBUTTONDOWN:\n",
    "        font = cv2.FONT_HERSHEY_SIMPLEX\n",
    "        #not quite sure why img[y,x,band] instead of img[x,y,band]?\n",
    "        #down comes first, then over second, then the band!\n",
    "        #row first then column so y first then x\n",
    "        blue = img[y,x,0]\n",
    "        green = img[y,x,1]\n",
    "        red = img[y,x,2]\n",
    "        print(x,y)\n",
    "        strBGR = f'{blue}, {green}, {red}'\n",
    "        print(strBGR)\n",
    "        cv2.putText(img, strBGR, (x, y), font, .5, (255,255,255), 1)\n",
    "        cv2.imshow('image', img)"
   ]
  },
  {
   "cell_type": "code",
   "execution_count": null,
   "id": "aaa7d889",
   "metadata": {},
   "outputs": [],
   "source": [
    "img = np.random.randint(0,255, size = [2,2,3],dtype = 'uint8')\n",
    "img = cv2.resize(img, (512,512))\n",
    "cv2.imshow('image',img)\n",
    "cv2.setMouseCallback('image', click_event)\n",
    "\n",
    "cv2.waitKey(0)\n",
    "cv2.destroyAllWindows()"
   ]
  }
 ],
 "metadata": {
  "kernelspec": {
   "display_name": "Python 3",
   "language": "python",
   "name": "python3"
  },
  "language_info": {
   "codemirror_mode": {
    "name": "ipython",
    "version": 3
   },
   "file_extension": ".py",
   "mimetype": "text/x-python",
   "name": "python",
   "nbconvert_exporter": "python",
   "pygments_lexer": "ipython3",
   "version": "3.8.0"
  }
 },
 "nbformat": 4,
 "nbformat_minor": 5
}
